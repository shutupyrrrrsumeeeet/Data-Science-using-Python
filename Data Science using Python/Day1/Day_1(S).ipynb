{
  "nbformat": 4,
  "nbformat_minor": 0,
  "metadata": {
    "colab": {
      "provenance": []
    },
    "kernelspec": {
      "name": "python3",
      "display_name": "Python 3"
    },
    "language_info": {
      "name": "python"
    }
  },
  "cells": [
    {
      "cell_type": "code",
      "execution_count": null,
      "metadata": {
        "id": "cK3ltxW5tfcb"
      },
      "outputs": [],
      "source": []
    },
    {
      "cell_type": "code",
      "source": [
        "import time\n",
        "for i in range(20):\n",
        "  print(time.asctime())\n",
        "  time.sleep(1)\n",
        "  display(clear=True)\n"
      ],
      "metadata": {
        "colab": {
          "base_uri": "https://localhost:8080/",
          "height": 211
        },
        "id": "BEjPNaCYtlWw",
        "outputId": "f71e1b33-fae0-4179-b46e-bbd1c587b41c"
      },
      "execution_count": null,
      "outputs": [
        {
          "output_type": "stream",
          "name": "stdout",
          "text": [
            "Mon Jun 30 07:23:48 2025\n"
          ]
        },
        {
          "output_type": "error",
          "ename": "KeyboardInterrupt",
          "evalue": "",
          "traceback": [
            "\u001b[0;31m---------------------------------------------------------------------------\u001b[0m",
            "\u001b[0;31mKeyboardInterrupt\u001b[0m                         Traceback (most recent call last)",
            "\u001b[0;32m/tmp/ipython-input-2-2882163826.py\u001b[0m in \u001b[0;36m<cell line: 0>\u001b[0;34m()\u001b[0m\n\u001b[1;32m      2\u001b[0m \u001b[0;32mfor\u001b[0m \u001b[0mi\u001b[0m \u001b[0;32min\u001b[0m \u001b[0mrange\u001b[0m\u001b[0;34m(\u001b[0m\u001b[0;36m20\u001b[0m\u001b[0;34m)\u001b[0m\u001b[0;34m:\u001b[0m\u001b[0;34m\u001b[0m\u001b[0;34m\u001b[0m\u001b[0m\n\u001b[1;32m      3\u001b[0m   \u001b[0mprint\u001b[0m\u001b[0;34m(\u001b[0m\u001b[0mtime\u001b[0m\u001b[0;34m.\u001b[0m\u001b[0masctime\u001b[0m\u001b[0;34m(\u001b[0m\u001b[0;34m)\u001b[0m\u001b[0;34m)\u001b[0m\u001b[0;34m\u001b[0m\u001b[0;34m\u001b[0m\u001b[0m\n\u001b[0;32m----> 4\u001b[0;31m   \u001b[0mtime\u001b[0m\u001b[0;34m.\u001b[0m\u001b[0msleep\u001b[0m\u001b[0;34m(\u001b[0m\u001b[0;36m1\u001b[0m\u001b[0;34m)\u001b[0m\u001b[0;34m\u001b[0m\u001b[0;34m\u001b[0m\u001b[0m\n\u001b[0m\u001b[1;32m      5\u001b[0m   \u001b[0mdisplay\u001b[0m\u001b[0;34m(\u001b[0m\u001b[0mclear\u001b[0m\u001b[0;34m=\u001b[0m\u001b[0;32mTrue\u001b[0m\u001b[0;34m)\u001b[0m\u001b[0;34m\u001b[0m\u001b[0;34m\u001b[0m\u001b[0m\n",
            "\u001b[0;31mKeyboardInterrupt\u001b[0m: "
          ]
        }
      ]
    },
    {
      "cell_type": "code",
      "source": [
        "import random\n",
        "comp_choice = random.randint(1,10)\n",
        "user_choice = int(input('Enter your choice(1-10):'))\n",
        "\n",
        "print(f'''\n",
        "user choice: {user_choice}\n",
        "computer choice{comp_choice}''')\n",
        "\n",
        "\n",
        "if user_choice == comp_choice:\n",
        "  print('user won, comp lose!!')\n",
        "\n",
        "else:\n",
        "  print('better luck next time!!')"
      ],
      "metadata": {
        "colab": {
          "base_uri": "https://localhost:8080/"
        },
        "id": "QmFx53YIuhM6",
        "outputId": "a278fbd1-cbdb-470a-a719-c8cd3cfef787"
      },
      "execution_count": null,
      "outputs": [
        {
          "output_type": "stream",
          "name": "stdout",
          "text": [
            "Enter your choice(1-10):9\n",
            "\n",
            "user choice: 9\n",
            "computer choice10\n",
            "better luck next time!!\n"
          ]
        }
      ]
    },
    {
      "cell_type": "code",
      "source": [
        "  user_attempt = 3\n",
        "\n",
        "  for i in range(user_attempt):\n",
        "      comp_choice = random.randint(1,10)\n",
        "      user_choice = int(input('Enter your choice(1-10):'))\n",
        "\n",
        "      print(f'''\n",
        "      user choice: {user_choice}\n",
        "      computer choice{comp_choice}''')\n",
        "\n",
        "\n",
        "      if user_choice == comp_choice:\n",
        "        print('user won, comp lose!!')\n",
        "\n",
        "      else:\n",
        "        print('better luck next time!!')"
      ],
      "metadata": {
        "colab": {
          "base_uri": "https://localhost:8080/"
        },
        "id": "p0M6qvQcwqOS",
        "outputId": "7ef0cfee-1c56-4b4e-90b5-c14fa5f4698d"
      },
      "execution_count": null,
      "outputs": [
        {
          "output_type": "stream",
          "name": "stdout",
          "text": [
            "Enter your choice(1-10):1\n",
            "\n",
            "    user choice: 1\n",
            "    computer choice8\n",
            "better luck next time!!\n",
            "Enter your choice(1-10):2\n",
            "\n",
            "    user choice: 2\n",
            "    computer choice10\n",
            "better luck next time!!\n",
            "Enter your choice(1-10):6\n",
            "\n",
            "    user choice: 6\n",
            "    computer choice3\n",
            "better luck next time!!\n"
          ]
        }
      ]
    },
    {
      "cell_type": "code",
      "source": [
        "Questions = {1:'What is the capital of Australia?',\n",
        "             2:'Who invented the telephone?',\n",
        "             3:'Which planet is known as the Red Planet?',\n",
        "             4:'In which year did India gain independence?',\n",
        "             5:'What is the largest organ in the human body?'}\n",
        "\n",
        "options = {1:'''A) Sydney\n",
        "B) Melbourne\n",
        "C) Canberra\n",
        "D) Perth''',\n",
        "           2:'''A) Albert Einstein\n",
        "B) Isaac Newton\n",
        "C) Alexander Graham Bell\n",
        "D) Thomas Edison''',\n",
        "           3:'''A) Earth\n",
        "B) Venus\n",
        "C) Jupiter\n",
        "D) Mars''',\n",
        "           4:'''A) 1945\n",
        "B) 1946\n",
        "C) 1947\n",
        "D) 1950''',\n",
        "           5:'''A) Liver\n",
        "B) Brain\n",
        "C) Skin\n",
        "D) Heart'''}\n",
        "\n",
        "win_ammount = 0\n",
        "\n",
        "correct_op = ['C','C','D','C','C']\n",
        "\n",
        "\n",
        "for i in range(1,len(Questions)+1):\n",
        "  print(f'Question {i}: ',Questions[i])\n",
        "  print(options[i])\n",
        "  user_choice = input('Enter your choice: ').upper()\n",
        "\n",
        "  correct_ans = correct_op[i-1]\n",
        "  # print(correct_ans)\n",
        "  if user_choice == correct_ans:\n",
        "    win_ammount += 10000\n",
        "    print('Correct Answer!!')\n",
        "    print(end = '\\n'*3)\n",
        "\n",
        "  else:\n",
        "    print('Better luck next time!!')\n",
        "    break\n",
        "\n",
        "\n",
        "print('Total Amount',win_ammount)"
      ],
      "metadata": {
        "colab": {
          "base_uri": "https://localhost:8080/"
        },
        "id": "3rkTw0rOyJ0B",
        "outputId": "b4943a25-934e-4e92-ad27-1b606e205d71"
      },
      "execution_count": null,
      "outputs": [
        {
          "output_type": "stream",
          "name": "stdout",
          "text": [
            "Question 1:  What is the capital of Australia?\n",
            "A) Sydney\n",
            "B) Melbourne\n",
            "C) Canberra\n",
            "D) Perth\n",
            "Enter your choice: c\n",
            "Correct Answer!!\n",
            "\n",
            "\n",
            "\n",
            "Question 2:  Who invented the telephone?\n",
            "A) Albert Einstein\n",
            "B) Isaac Newton\n",
            "C) Alexander Graham Bell\n",
            "D) Thomas Edison\n",
            "Enter your choice: c\n",
            "Correct Answer!!\n",
            "\n",
            "\n",
            "\n",
            "Question 3:  Which planet is known as the Red Planet?\n",
            "A) Earth\n",
            "B) Venus\n",
            "C) Jupiter\n",
            "D) Mars\n",
            "Enter your choice: d\n",
            "Correct Answer!!\n",
            "\n",
            "\n",
            "\n",
            "Question 4:  In which year did India gain independence?\n",
            "A) 1945\n",
            "B) 1946\n",
            "C) 1947\n",
            "D) 1950\n",
            "Enter your choice: c\n",
            "Correct Answer!!\n",
            "\n",
            "\n",
            "\n",
            "Question 5:  What is the largest organ in the human body?\n",
            "A) Liver\n",
            "B) Brain\n",
            "C) Skin\n",
            "D) Heart\n",
            "Enter your choice: c\n",
            "Correct Answer!!\n",
            "\n",
            "\n",
            "\n",
            "Total Amount 50000\n"
          ]
        }
      ]
    },
    {
      "cell_type": "code",
      "source": [
        "def say_hello(name):\n",
        "  print(f'Hello {name},','how are you??')"
      ],
      "metadata": {
        "id": "X7QmyrvI5ppO"
      },
      "execution_count": null,
      "outputs": []
    },
    {
      "cell_type": "code",
      "source": [
        "say_hello('daksh chananananananananaanan')"
      ],
      "metadata": {
        "colab": {
          "base_uri": "https://localhost:8080/"
        },
        "id": "ss1zT9W1zsDZ",
        "outputId": "ce502c72-9040-43dc-e6a9-0d640aa3e238"
      },
      "execution_count": null,
      "outputs": [
        {
          "output_type": "stream",
          "name": "stdout",
          "text": [
            "Hello daksh chananananananananaanan, how are you??\n"
          ]
        }
      ]
    },
    {
      "cell_type": "code",
      "source": [
        "def vote(age):\n",
        "  print('can vote') if age >= 18 else print('cant vote')"
      ],
      "metadata": {
        "id": "IXfzG8TS6Gj2"
      },
      "execution_count": null,
      "outputs": []
    },
    {
      "cell_type": "code",
      "source": [
        "vote(3)"
      ],
      "metadata": {
        "colab": {
          "base_uri": "https://localhost:8080/",
          "height": 141
        },
        "id": "4_QzN41B8REn",
        "outputId": "115d8625-bc14-43d9-eb42-7dbf8b69c779"
      },
      "execution_count": null,
      "outputs": [
        {
          "output_type": "error",
          "ename": "NameError",
          "evalue": "name 'vote' is not defined",
          "traceback": [
            "\u001b[0;31m---------------------------------------------------------------------------\u001b[0m",
            "\u001b[0;31mNameError\u001b[0m                                 Traceback (most recent call last)",
            "\u001b[0;32m/tmp/ipython-input-25-3266293970.py\u001b[0m in \u001b[0;36m<cell line: 0>\u001b[0;34m()\u001b[0m\n\u001b[0;32m----> 1\u001b[0;31m \u001b[0mvote\u001b[0m\u001b[0;34m(\u001b[0m\u001b[0;36m3\u001b[0m\u001b[0;34m)\u001b[0m\u001b[0;34m\u001b[0m\u001b[0;34m\u001b[0m\u001b[0m\n\u001b[0m",
            "\u001b[0;31mNameError\u001b[0m: name 'vote' is not defined"
          ]
        }
      ]
    },
    {
      "cell_type": "code",
      "source": [
        "from typing import get_type_hints\n",
        "pip install get_type_hints"
      ],
      "metadata": {
        "colab": {
          "base_uri": "https://localhost:8080/",
          "height": 106
        },
        "id": "7GihYLtQ8WLs",
        "outputId": "1017fbf3-93a3-4132-e833-47b29e85c855"
      },
      "execution_count": null,
      "outputs": [
        {
          "output_type": "error",
          "ename": "SyntaxError",
          "evalue": "invalid syntax (ipython-input-26-2779778821.py, line 2)",
          "traceback": [
            "\u001b[0;36m  File \u001b[0;32m\"/tmp/ipython-input-26-2779778821.py\"\u001b[0;36m, line \u001b[0;32m2\u001b[0m\n\u001b[0;31m    pip install get_type_hints\u001b[0m\n\u001b[0m        ^\u001b[0m\n\u001b[0;31mSyntaxError\u001b[0m\u001b[0;31m:\u001b[0m invalid syntax\n"
          ]
        }
      ]
    },
    {
      "cell_type": "code",
      "source": [
        "#pip install gTTS"
      ],
      "metadata": {
        "colab": {
          "base_uri": "https://localhost:8080/"
        },
        "id": "ER_WrL3x8_oh",
        "outputId": "12c64f2b-3445-4c79-b898-977d2998d0ac"
      },
      "execution_count": null,
      "outputs": [
        {
          "output_type": "stream",
          "name": "stdout",
          "text": [
            "Collecting gTTS\n",
            "  Downloading gTTS-2.5.4-py3-none-any.whl.metadata (4.1 kB)\n",
            "Requirement already satisfied: requests<3,>=2.27 in /usr/local/lib/python3.11/dist-packages (from gTTS) (2.32.3)\n",
            "Collecting click<8.2,>=7.1 (from gTTS)\n",
            "  Downloading click-8.1.8-py3-none-any.whl.metadata (2.3 kB)\n",
            "Requirement already satisfied: charset-normalizer<4,>=2 in /usr/local/lib/python3.11/dist-packages (from requests<3,>=2.27->gTTS) (3.4.2)\n",
            "Requirement already satisfied: idna<4,>=2.5 in /usr/local/lib/python3.11/dist-packages (from requests<3,>=2.27->gTTS) (3.10)\n",
            "Requirement already satisfied: urllib3<3,>=1.21.1 in /usr/local/lib/python3.11/dist-packages (from requests<3,>=2.27->gTTS) (2.4.0)\n",
            "Requirement already satisfied: certifi>=2017.4.17 in /usr/local/lib/python3.11/dist-packages (from requests<3,>=2.27->gTTS) (2025.6.15)\n",
            "Downloading gTTS-2.5.4-py3-none-any.whl (29 kB)\n",
            "Downloading click-8.1.8-py3-none-any.whl (98 kB)\n",
            "\u001b[?25l   \u001b[90m━━━━━━━━━━━━━━━━━━━━━━━━━━━━━━━━━━━━━━━━\u001b[0m \u001b[32m0.0/98.2 kB\u001b[0m \u001b[31m?\u001b[0m eta \u001b[36m-:--:--\u001b[0m\r\u001b[2K   \u001b[90m━━━━━━━━━━━━━━━━━━━━━━━━━━━━━━━━━━━━━━━━\u001b[0m \u001b[32m98.2/98.2 kB\u001b[0m \u001b[31m7.0 MB/s\u001b[0m eta \u001b[36m0:00:00\u001b[0m\n",
            "\u001b[?25hInstalling collected packages: click, gTTS\n",
            "  Attempting uninstall: click\n",
            "    Found existing installation: click 8.2.1\n",
            "    Uninstalling click-8.2.1:\n",
            "      Successfully uninstalled click-8.2.1\n",
            "Successfully installed click-8.1.8 gTTS-2.5.4\n"
          ]
        }
      ]
    },
    {
      "cell_type": "code",
      "source": [
        "#from gtts import gTTS\n",
        "#text = '''Paytm par 50 rs prapt huye.'''\n",
        "#audio = gTTS(text)\n",
        "#audio.save('paytm.mp3')\n",
        "\n",
        "\n",
        "\n",
        "\n"
      ],
      "metadata": {
        "id": "Nrrad0qp90PN"
      },
      "execution_count": null,
      "outputs": []
    },
    {
      "cell_type": "code",
      "source": [
        "#pip install pygame\n"
      ],
      "metadata": {
        "colab": {
          "base_uri": "https://localhost:8080/"
        },
        "id": "40NLednC-ruG",
        "outputId": "d9e64a0b-c18d-48c9-e185-df9ef3c9ae2d"
      },
      "execution_count": null,
      "outputs": [
        {
          "output_type": "stream",
          "name": "stdout",
          "text": [
            "Requirement already satisfied: pygame in /usr/local/lib/python3.11/dist-packages (2.6.1)\n"
          ]
        }
      ]
    },
    {
      "cell_type": "code",
      "source": [
        "from gtts import gTTS\n",
        "text = '''Paytm par 50 rs prapt huye.'''\n",
        "audio = gTTS(text)\n",
        "audio.save('paytm.mp3')\n",
        "\n",
        "import pygame as p\n",
        "p.init()\n",
        "\n",
        "music = p.mixer.Sound('paytm.mp3')\n",
        "music.play()\n",
        "\n",
        "sound_box(25)"
      ],
      "metadata": {
        "colab": {
          "base_uri": "https://localhost:8080/",
          "height": 228
        },
        "id": "JnaqxCpp-ssh",
        "outputId": "e51781ff-fb97-4a21-bea2-28e85686fc47"
      },
      "execution_count": null,
      "outputs": [
        {
          "output_type": "stream",
          "name": "stdout",
          "text": [
            "pygame 2.6.1 (SDL 2.28.4, Python 3.11.13)\n",
            "Hello from the pygame community. https://www.pygame.org/contribute.html\n"
          ]
        },
        {
          "output_type": "error",
          "ename": "error",
          "evalue": "mixer not initialized",
          "traceback": [
            "\u001b[0;31m---------------------------------------------------------------------------\u001b[0m",
            "\u001b[0;31merror\u001b[0m                                     Traceback (most recent call last)",
            "\u001b[0;32m/tmp/ipython-input-29-1580502804.py\u001b[0m in \u001b[0;36m<cell line: 0>\u001b[0;34m()\u001b[0m\n\u001b[1;32m      7\u001b[0m \u001b[0mp\u001b[0m\u001b[0;34m.\u001b[0m\u001b[0minit\u001b[0m\u001b[0;34m(\u001b[0m\u001b[0;34m)\u001b[0m\u001b[0;34m\u001b[0m\u001b[0;34m\u001b[0m\u001b[0m\n\u001b[1;32m      8\u001b[0m \u001b[0;34m\u001b[0m\u001b[0m\n\u001b[0;32m----> 9\u001b[0;31m \u001b[0mmusic\u001b[0m \u001b[0;34m=\u001b[0m \u001b[0mp\u001b[0m\u001b[0;34m.\u001b[0m\u001b[0mmixer\u001b[0m\u001b[0;34m.\u001b[0m\u001b[0mSound\u001b[0m\u001b[0;34m(\u001b[0m\u001b[0;34m'paytm.mp3'\u001b[0m\u001b[0;34m)\u001b[0m\u001b[0;34m\u001b[0m\u001b[0;34m\u001b[0m\u001b[0m\n\u001b[0m\u001b[1;32m     10\u001b[0m \u001b[0mmusic\u001b[0m\u001b[0;34m.\u001b[0m\u001b[0mplay\u001b[0m\u001b[0;34m(\u001b[0m\u001b[0;34m)\u001b[0m\u001b[0;34m\u001b[0m\u001b[0;34m\u001b[0m\u001b[0m\n",
            "\u001b[0;31merror\u001b[0m: mixer not initialized"
          ]
        }
      ]
    },
    {
      "cell_type": "code",
      "source": [
        "def sound_box(paisa):\n",
        "\n",
        "  text = '''Paytm par 50 rs prapt huye.'''\n",
        "  audio = gTTS(text)\n",
        "  audio.save('paytm.mp3')\n",
        "\n",
        "  import pygame as p\n",
        "  p.init()\n",
        "\n",
        "  music = p.mixer.Sound('paytm.mp3')\n",
        "  music.play()\n",
        "\n",
        "  sound_box(25)\n",
        "\n"
      ],
      "metadata": {
        "id": "XObrJlgcBXrY"
      },
      "execution_count": null,
      "outputs": []
    }
  ]
}