{
  "nbformat": 4,
  "nbformat_minor": 0,
  "metadata": {
    "colab": {
      "private_outputs": true,
      "provenance": []
    },
    "kernelspec": {
      "name": "python3",
      "display_name": "Python 3"
    },
    "language_info": {
      "name": "python"
    }
  },
  "cells": [
    {
      "cell_type": "code",
      "execution_count": null,
      "metadata": {
        "id": "Mm0ROvuCVPYS"
      },
      "outputs": [],
      "source": [
        "# Int\n",
        "a = 5678\n",
        "print(a,type(a))"
      ]
    },
    {
      "cell_type": "code",
      "source": [
        "# Float\n",
        "a = 4567.8765\n",
        "print(a,type(a))"
      ],
      "metadata": {
        "id": "Q4yz4wUOVls3"
      },
      "execution_count": null,
      "outputs": []
    },
    {
      "cell_type": "code",
      "source": [
        "# pip install qrcode"
      ],
      "metadata": {
        "id": "8oKGlpnMWOeZ"
      },
      "execution_count": null,
      "outputs": []
    },
    {
      "cell_type": "code",
      "source": [
        "import qrcode\n",
        "img = qrcode.make('https://colab.research.google.com/drive/1mcwryu-5DRrBIAnZx-ezis0r7PrfmPBA?usp=sharing')\n",
        "img.save('myqr.png')\n"
      ],
      "metadata": {
        "id": "5NNLcvw5WYYq"
      },
      "execution_count": null,
      "outputs": []
    },
    {
      "cell_type": "code",
      "source": [
        "# Complex\n",
        "a = 456 + 8j\n",
        "print(a,type(a))"
      ],
      "metadata": {
        "id": "SaBwYHiwW5Sc"
      },
      "execution_count": null,
      "outputs": []
    },
    {
      "cell_type": "code",
      "source": [
        "# Int,float, Complex = Numerical"
      ],
      "metadata": {
        "id": "4TKwkiV3XuNc"
      },
      "execution_count": null,
      "outputs": []
    },
    {
      "cell_type": "code",
      "source": [
        "# Str, double, triple\n",
        "a = 'Hello Python'\n",
        "print(a,type(a))"
      ],
      "metadata": {
        "id": "qV8__ATZX4H-"
      },
      "execution_count": null,
      "outputs": []
    },
    {
      "cell_type": "code",
      "source": [
        "poem = '''Twinkle twinkle little star\n",
        "How I wonder what you are\n",
        "Up above the world so high\n",
        "Like a diamond in the sky\n",
        "Twinkle twinkle little star\n",
        "How I wonder what you are\n",
        "\n",
        "\n",
        "\n",
        "Twinkle twinkle little star\n",
        "How I wonder what you are\n",
        "Up above the world so high\n",
        "Like a diamond in the sky\n",
        "Twinkle twinkle little star\n",
        "How I wonder what you are'''\n",
        "\n",
        "\n",
        "print(poem)"
      ],
      "metadata": {
        "id": "hYqYe1YfX-pL"
      },
      "execution_count": null,
      "outputs": []
    },
    {
      "cell_type": "code",
      "source": [
        "# tuple\n",
        "a = (2,3434,5,5467)\n",
        "print(a,type(a))"
      ],
      "metadata": {
        "id": "KGxEOCQqYYHU"
      },
      "execution_count": null,
      "outputs": []
    },
    {
      "cell_type": "code",
      "source": [
        "# tuple\n",
        "a = (2,)\n",
        "print(a,type(a))"
      ],
      "metadata": {
        "id": "S3Y0rUUHYoEz"
      },
      "execution_count": null,
      "outputs": []
    },
    {
      "cell_type": "code",
      "source": [
        "# tuple\n",
        "a = [2,3434,5,5467]\n",
        "print(a,type(a))"
      ],
      "metadata": {
        "id": "T1vzaPVIY9rA"
      },
      "execution_count": null,
      "outputs": []
    },
    {
      "cell_type": "code",
      "source": [
        "a[2] = 4000"
      ],
      "metadata": {
        "id": "5GssTUdmZHsf"
      },
      "execution_count": null,
      "outputs": []
    },
    {
      "cell_type": "code",
      "source": [
        "print(a)"
      ],
      "metadata": {
        "id": "7cWklCNXZVR_"
      },
      "execution_count": null,
      "outputs": []
    },
    {
      "cell_type": "code",
      "source": [
        "a = (3,544,5,346,567)\n",
        "\n",
        "print(a[3])"
      ],
      "metadata": {
        "id": "xH01WcCMZgsY"
      },
      "execution_count": null,
      "outputs": []
    },
    {
      "cell_type": "code",
      "source": [
        "a[3] = 900"
      ],
      "metadata": {
        "id": "ob3b3MpRZtSx"
      },
      "execution_count": null,
      "outputs": []
    },
    {
      "cell_type": "code",
      "source": [
        "a = list(a)\n",
        "a[3] = 900\n",
        "a = tuple(a)\n",
        "print(a)"
      ],
      "metadata": {
        "id": "KTUYQaG8Zv04"
      },
      "execution_count": null,
      "outputs": []
    },
    {
      "cell_type": "code",
      "source": [
        "std_id = [1,1,2,2,2,2,23,3,3,3,4,4,45]\n",
        "\n",
        "print(std_id)"
      ],
      "metadata": {
        "id": "ji_yQhY3Z6vw"
      },
      "execution_count": null,
      "outputs": []
    },
    {
      "cell_type": "code",
      "source": [
        "std_id = list(set(std_id))\n",
        "print(std_id)"
      ],
      "metadata": {
        "id": "XeefrjeZaK2Q"
      },
      "execution_count": null,
      "outputs": []
    },
    {
      "cell_type": "code",
      "source": [
        "# dict:- key value pair datatype, # hash\n",
        "\n",
        "a = {'Name':'Aman','Age':23,'Address':'Delhi'}\n",
        "print(a,type(a))"
      ],
      "metadata": {
        "id": "kLFTE3eLad7T"
      },
      "execution_count": null,
      "outputs": []
    },
    {
      "cell_type": "code",
      "source": [
        "a['Address'] = 'Noida/Gr Noida'"
      ],
      "metadata": {
        "id": "wphXK87aa7JS"
      },
      "execution_count": null,
      "outputs": []
    },
    {
      "cell_type": "code",
      "source": [
        "print(a)"
      ],
      "metadata": {
        "id": "UTSlf_0MbfCR"
      },
      "execution_count": null,
      "outputs": []
    },
    {
      "cell_type": "code",
      "source": [
        "a['Name'] = 'Aman Kumar'"
      ],
      "metadata": {
        "id": "bS9GI0nRbfw7"
      },
      "execution_count": null,
      "outputs": []
    },
    {
      "cell_type": "code",
      "source": [
        "print(a)"
      ],
      "metadata": {
        "id": "siag4OMMb4jX"
      },
      "execution_count": null,
      "outputs": []
    },
    {
      "cell_type": "code",
      "source": [
        "data = {'Region':['West','East','North','South'],\n",
        "        'Sales':[345,546,453,456],\n",
        "        'Profit':[120,200,90,78]}\n",
        "\n",
        "print(data)"
      ],
      "metadata": {
        "id": "MGtuNfyNb5F9"
      },
      "execution_count": null,
      "outputs": []
    },
    {
      "cell_type": "code",
      "source": [
        "import pandas as pd\n",
        "\n",
        "table = pd.DataFrame(data)\n",
        "table"
      ],
      "metadata": {
        "id": "wv7CDYp8c5Ka"
      },
      "execution_count": null,
      "outputs": []
    },
    {
      "cell_type": "code",
      "source": [
        "table"
      ],
      "metadata": {
        "id": "CW3yvZT7dAPX"
      },
      "execution_count": null,
      "outputs": []
    },
    {
      "cell_type": "code",
      "source": [
        "a = True\n",
        "print(a,type(a))"
      ],
      "metadata": {
        "id": "4iAQVHPOdP7k"
      },
      "execution_count": null,
      "outputs": []
    },
    {
      "cell_type": "code",
      "source": [
        "# #int,float, complex\n",
        "# str, tuple, list\n",
        "# set, dict,\n",
        "# # bool"
      ],
      "metadata": {
        "id": "SQjPEJhceGfT"
      },
      "execution_count": null,
      "outputs": []
    },
    {
      "cell_type": "code",
      "source": [
        "# salary = 56789\n",
        "\n",
        "# >= 50: manager\n",
        "# >= 30: Jr manager\n",
        "# >= 20: Executive\n",
        "# Intern"
      ],
      "metadata": {
        "id": "VO5UVi46eTXn"
      },
      "execution_count": null,
      "outputs": []
    },
    {
      "cell_type": "code",
      "source": [
        "salary = 27800\n",
        "if salary >= 50000:\n",
        "  print('Manager')\n",
        "elif salary >= 30000:\n",
        "  print('Jr Manager')\n",
        "elif salary >= 20000:\n",
        "  print('Executive')\n",
        "else:\n",
        "  print('Intern')"
      ],
      "metadata": {
        "id": "jGAmlhHheoOm"
      },
      "execution_count": null,
      "outputs": []
    },
    {
      "cell_type": "code",
      "source": [
        "import random\n",
        "random.randint(10000,60000,5)"
      ],
      "metadata": {
        "id": "ySGnXOF2fchk"
      },
      "execution_count": null,
      "outputs": []
    },
    {
      "cell_type": "code",
      "source": [
        "import numpy as np\n",
        "database_salary = np.random.randint(10000,60000,5)"
      ],
      "metadata": {
        "id": "DXep0-DcgFfW"
      },
      "execution_count": null,
      "outputs": []
    },
    {
      "cell_type": "code",
      "source": [
        "print(salary)"
      ],
      "metadata": {
        "id": "pkrOn5eegR2F"
      },
      "execution_count": null,
      "outputs": []
    },
    {
      "cell_type": "code",
      "source": [
        "for i in database_salary:\n",
        "  salary = i\n",
        "  if salary >= 50000:\n",
        "    print(i, 'Manager')\n",
        "  elif salary >= 30000:\n",
        "    print(i, 'Jr Manager')\n",
        "  elif salary >= 20000:\n",
        "    print(i, 'Executive')\n",
        "  else:\n",
        "    print(i, 'Intern')"
      ],
      "metadata": {
        "id": "aEsHMNkmhMiO"
      },
      "execution_count": null,
      "outputs": []
    },
    {
      "cell_type": "code",
      "source": [
        "import time\n",
        "for i in range(20):\n",
        "  print(time.asctime())\n",
        "  time.sleep(1)\n",
        "  display(clear= True)"
      ],
      "metadata": {
        "id": "tHNAOqFahbLT"
      },
      "execution_count": null,
      "outputs": []
    },
    {
      "cell_type": "code",
      "source": [
        "import random\n",
        "comp_choice = random.randint(1,10)\n",
        "user_choice = int(input('Enter your Choice(1-10): '))\n",
        "\n",
        "print(f'''\n",
        "User choice: {user_choice}\n",
        "Computer Choice: {comp_choice}''')\n",
        "\n",
        "if user_choice == comp_choice:\n",
        "  print('User Won, Comp Lose!!')\n",
        "else:\n",
        "  print('Better Luck next time!!')\n",
        "\n"
      ],
      "metadata": {
        "id": "mLH63zWbs7eO"
      },
      "execution_count": null,
      "outputs": []
    },
    {
      "cell_type": "code",
      "source": [
        "user_attempts = 3\n",
        "import random\n",
        "for i in range(user_attempts):\n",
        "  comp_choice = random.randint(1,10)\n",
        "  user_choice = int(input('Enter your Choice(1-10): '))\n",
        "\n",
        "  print(f'''\n",
        "  User choice: {user_choice}\n",
        "  Computer Choice: {comp_choice}''')\n",
        "\n",
        "  if user_choice == comp_choice:\n",
        "    print('User Won, Comp Lose!!')\n",
        "  else:\n",
        "    print('Better Luck next time!!')"
      ],
      "metadata": {
        "id": "tHcRxJhxulxX"
      },
      "execution_count": null,
      "outputs": []
    },
    {
      "cell_type": "code",
      "source": [
        "Questions[1]"
      ],
      "metadata": {
        "id": "x-DADU-d0O6Y"
      },
      "execution_count": null,
      "outputs": []
    },
    {
      "cell_type": "code",
      "source": [
        "Questions = {1:'What is the capital of Australia?',\n",
        "             2:'Who invented the telephone?',\n",
        "             3:'Which planet is known as the Red Planet?',\n",
        "             4:'In which year did India gain independence?',\n",
        "             5:'What is the largest organ in the human body?'}\n",
        "\n",
        "options = {1:'''A) Sydney\n",
        "B) Melbourne\n",
        "C) Canberra\n",
        "D) Perth''',\n",
        "           2:'''A) Albert Einstein\n",
        "B) Isaac Newton\n",
        "C) Alexander Graham Bell\n",
        "D) Thomas Edison''',\n",
        "           3:'''A) Earth\n",
        "B) Venus\n",
        "C) Jupiter\n",
        "D) Mars''',\n",
        "           4:'''A) 1945\n",
        "B) 1946\n",
        "C) 1947\n",
        "D) 1950''',\n",
        "           5:'''A) Liver\n",
        "B) Brain\n",
        "C) Skin\n",
        "D) Heart'''}\n",
        "\n",
        "win_ammount = 0\n",
        "\n",
        "correct_op = ['C','C','D','C','C']\n",
        "\n",
        "for i in range(1,len(Questions)+1):\n",
        "  print(f'Question {i}: ',Questions[i])\n",
        "  print(options[i])\n",
        "  user_choice = input('Enter your choice: ').upper()\n",
        "\n",
        "  correct_ans = correct_op[i-1]\n",
        "  # print(correct_ans)\n",
        "  if user_choice == correct_ans:\n",
        "    win_ammount += 10000\n",
        "    print('Correct Answer!!')\n",
        "    print(end = '\\n'*3)\n",
        "\n",
        "  else:\n",
        "    print('Better luck next time!!')\n",
        "    break\n",
        "\n",
        "\n",
        "print('Total Amount',win_ammount)"
      ],
      "metadata": {
        "id": "tgCfjsOWw55W"
      },
      "execution_count": null,
      "outputs": []
    },
    {
      "cell_type": "code",
      "source": [
        "def say_hello(name):\n",
        "  print(f'Hello {name},','how are you??')"
      ],
      "metadata": {
        "id": "bqpI4TExzH6v"
      },
      "execution_count": null,
      "outputs": []
    },
    {
      "cell_type": "code",
      "source": [
        "say_hello('Mohan')"
      ],
      "metadata": {
        "id": "LwCbXNho5XcK"
      },
      "execution_count": null,
      "outputs": []
    },
    {
      "cell_type": "code",
      "source": [
        "def vote(age):\n",
        "  print('can Vote!!') if age >= 18 else print('can not Vote!!')"
      ],
      "metadata": {
        "id": "VPABUv1B5hef"
      },
      "execution_count": null,
      "outputs": []
    },
    {
      "cell_type": "code",
      "source": [
        "vote(3)"
      ],
      "metadata": {
        "id": "4MLg0EUC8CMe"
      },
      "execution_count": null,
      "outputs": []
    },
    {
      "cell_type": "code",
      "source": [
        "# pip install gTTS"
      ],
      "metadata": {
        "id": "7ZOnliaS8C9l"
      },
      "execution_count": null,
      "outputs": []
    },
    {
      "cell_type": "code",
      "source": [
        "def sound_box(paisa,platform = 'Paytm'):\n",
        "    from gtts import gTTS\n",
        "    text  = f'''{platform} par {paisa} rs Prapt hue.'''\n",
        "    audio = gTTS(text)\n",
        "    audio.save('paytm.mp3')\n",
        "\n",
        "    import pygame as p\n",
        "    p.init()\n",
        "\n",
        "    music = p.mixer.Sound('paytm.mp3')\n",
        "    music.play()"
      ],
      "metadata": {
        "id": "V1bVpxPg8vzI"
      },
      "execution_count": null,
      "outputs": []
    },
    {
      "cell_type": "code",
      "source": [
        "# pip install pygame"
      ],
      "metadata": {
        "id": "UJDr1zTd-fwE"
      },
      "execution_count": null,
      "outputs": []
    },
    {
      "cell_type": "code",
      "source": [],
      "metadata": {
        "id": "sFd45Dy4-mt5"
      },
      "execution_count": null,
      "outputs": []
    }
  ]
}