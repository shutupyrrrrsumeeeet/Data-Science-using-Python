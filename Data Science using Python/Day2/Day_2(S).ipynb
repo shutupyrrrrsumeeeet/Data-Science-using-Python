{
 "cells": [
  {
   "cell_type": "code",
   "execution_count": 1,
   "id": "659b2f24-2efa-4f71-86fc-1ebe2a3b8174",
   "metadata": {},
   "outputs": [],
   "source": [
    "def check_palindrome(word:str):\n",
    "  if type(word) == str:\n",
    "    word = word.upper()\n",
    "    if word == word[::-1]:\n",
    "      return 'Palindrome'\n",
    "    else:\n",
    "      return 'Not a Plaindrome'\n",
    "  else:\n",
    "    return 'Invalid Data Type'"
   ]
  },
  {
   "cell_type": "code",
   "execution_count": 2,
   "id": "2e930eab-861f-4f98-a191-5d99dd498590",
   "metadata": {},
   "outputs": [
    {
     "data": {
      "text/plain": [
       "'Not a Plaindrome'"
      ]
     },
     "execution_count": 2,
     "metadata": {},
     "output_type": "execute_result"
    }
   ],
   "source": [
    "check_palindrome('harry')\n",
    "\n",
    "\n",
    "\n"
   ]
  },
  {
   "cell_type": "code",
   "execution_count": 3,
   "id": "aa46a722-1d31-4a6c-9f39-3c89d84e73d9",
   "metadata": {},
   "outputs": [
    {
     "data": {
      "text/plain": [
       "'Palindrome'"
      ]
     },
     "execution_count": 3,
     "metadata": {},
     "output_type": "execute_result"
    }
   ],
   "source": [
    "check_palindrome('nitin')\n"
   ]
  },
  {
   "cell_type": "code",
   "execution_count": 4,
   "id": "88a85fb1-7114-47ca-b4f2-7fac40851dd8",
   "metadata": {},
   "outputs": [
    {
     "data": {
      "text/plain": [
       "'Palindrome'"
      ]
     },
     "execution_count": 4,
     "metadata": {},
     "output_type": "execute_result"
    }
   ],
   "source": [
    "check_palindrome('12321')"
   ]
  },
  {
   "cell_type": "code",
   "execution_count": 8,
   "id": "085b6ff1-ba1b-4f90-b313-31cb092ba011",
   "metadata": {},
   "outputs": [],
   "source": [
    "def give_fibo(n):\n",
    "    fibo = [0,1]\n",
    "    for i in range(n-2):\n",
    "        last_num = fibo[-1]\n",
    "        second_last_num = fibo[-2]\n",
    "        next_num = last_num + second_last_num\n",
    "        fibo.append(next_num)\n",
    "    return fibo"
   ]
  },
  {
   "cell_type": "code",
   "execution_count": 9,
   "id": "0741265b-8c81-4834-bfe5-928e3a0b0a96",
   "metadata": {},
   "outputs": [
    {
     "data": {
      "text/plain": [
       "[0, 1, 1, 2, 3, 5, 8, 13, 21, 34]"
      ]
     },
     "execution_count": 9,
     "metadata": {},
     "output_type": "execute_result"
    }
   ],
   "source": [
    "give_fibo(10)"
   ]
  },
  {
   "cell_type": "code",
   "execution_count": 10,
   "id": "09b79597-e1c4-4647-bf37-fbf07f5a763e",
   "metadata": {},
   "outputs": [
    {
     "data": {
      "text/plain": [
       "[0, 1, 1, 2, 3, 5, 8, 13, 21, 34]"
      ]
     },
     "execution_count": 10,
     "metadata": {},
     "output_type": "execute_result"
    }
   ],
   "source": [
    "give_fibo(10)"
   ]
  },
  {
   "cell_type": "code",
   "execution_count": 11,
   "id": "52fedba7-3e14-4dbb-bdeb-0d94b26d8484",
   "metadata": {},
   "outputs": [
    {
     "name": "stdout",
     "output_type": "stream",
     "text": [
      "[0, 1, 1, 2, 3, 5, 8, 13, 21, 34]\n"
     ]
    }
   ],
   "source": [
    "print(give_fibo(10))"
   ]
  },
  {
   "cell_type": "code",
   "execution_count": null,
   "id": "13b3595d-7c39-4f2f-bf27-93be57416897",
   "metadata": {},
   "outputs": [],
   "source": []
  },
  {
   "cell_type": "code",
   "execution_count": 20,
   "id": "f4de8352-555d-4536-bf5d-92d1ff12d0cf",
   "metadata": {},
   "outputs": [],
   "source": [
    "def check_prime(n):\n",
    "    for i in range(2,n):\n",
    "        if n % i == 0:\n",
    "            return 'Not a prime number.'\n",
    "            break\n",
    "    else:\n",
    "        return 'prime number'"
   ]
  },
  {
   "cell_type": "code",
   "execution_count": 21,
   "id": "f53b1a85-ff1b-4cdb-be10-e0b7f931a332",
   "metadata": {},
   "outputs": [
    {
     "data": {
      "text/plain": [
       "'prime number'"
      ]
     },
     "execution_count": 21,
     "metadata": {},
     "output_type": "execute_result"
    }
   ],
   "source": [
    "check_prime(11)"
   ]
  },
  {
   "cell_type": "code",
   "execution_count": 22,
   "id": "ffaa6fc7-37f4-4e1e-b357-a59d18efd2da",
   "metadata": {},
   "outputs": [
    {
     "data": {
      "text/plain": [
       "'prime number'"
      ]
     },
     "execution_count": 22,
     "metadata": {},
     "output_type": "execute_result"
    }
   ],
   "source": [
    "check_prime(13)"
   ]
  },
  {
   "cell_type": "code",
   "execution_count": 23,
   "id": "ce9af1cf-c4b4-4fb9-b6c0-4344ea363e21",
   "metadata": {},
   "outputs": [
    {
     "data": {
      "text/plain": [
       "'Not a prime number.'"
      ]
     },
     "execution_count": 23,
     "metadata": {},
     "output_type": "execute_result"
    }
   ],
   "source": [
    "check_prime(35)"
   ]
  },
  {
   "cell_type": "code",
   "execution_count": 25,
   "id": "65587563-2e2a-4e76-9dda-c06a4d6cb812",
   "metadata": {},
   "outputs": [
    {
     "name": "stdout",
     "output_type": "stream",
     "text": [
      "* \n",
      "* * \n",
      "* * * \n",
      "* * * * \n",
      "* * * * * \n"
     ]
    }
   ],
   "source": [
    "n = 5 \n",
    "\n",
    "for i in range(1,n+1):\n",
    "    print(i*'* ')"
   ]
  },
  {
   "cell_type": "code",
   "execution_count": 32,
   "id": "71838550-10e3-467e-8d33-f59efe09bfed",
   "metadata": {},
   "outputs": [
    {
     "name": "stdout",
     "output_type": "stream",
     "text": [
      "* \n",
      "* * \n",
      "* * * \n",
      "* * * * \n",
      "* * * * * \n"
     ]
    }
   ],
   "source": [
    "n = 5 \n",
    "\n",
    "for i in range(1,n+1):\n",
    "    print(''*(n-i) + i*'* ')"
   ]
  },
  {
   "cell_type": "code",
   "execution_count": 33,
   "id": "d9f4917a-ab28-4b3e-9878-e6a334f4b454",
   "metadata": {},
   "outputs": [
    {
     "name": "stdout",
     "output_type": "stream",
     "text": [
      "    * \n",
      "   * * \n",
      "  * * * \n",
      " * * * * \n",
      "* * * * * \n"
     ]
    }
   ],
   "source": [
    "n = 5 \n",
    "\n",
    "for i in range(1,n+1):\n",
    "    print(' '*(n-i) + i*'* ')"
   ]
  },
  {
   "cell_type": "code",
   "execution_count": 35,
   "id": "5ddb1da2-93a2-409e-826e-63db2cdda32a",
   "metadata": {},
   "outputs": [
    {
     "name": "stdout",
     "output_type": "stream",
     "text": [
      "        * \n",
      "      * * \n",
      "    * * * \n",
      "  * * * * \n",
      "* * * * * \n"
     ]
    }
   ],
   "source": [
    "n = 5 \n",
    "\n",
    "for i in range(1,n+1):\n",
    "    print('  '*(n-i) + i*'* ')"
   ]
  },
  {
   "cell_type": "code",
   "execution_count": 68,
   "id": "d24b061e-a6e1-4537-a61a-03e8d635960c",
   "metadata": {},
   "outputs": [],
   "source": [
    "def print_star(n=10, typ='left'):\n",
    "    if typ == 'left':\n",
    "        space = ''\n",
    "    elif typ == 'right':\n",
    "        space = '  ' \n",
    "    elif typ == 'mid':\n",
    "        space = ' '\n",
    "    for i in range(1,n+1):\n",
    "        print(space*(n-i) + i*'* ')\n",
    "    \n"
   ]
  },
  {
   "cell_type": "code",
   "execution_count": 69,
   "id": "2a3a06e6-7237-459a-a4ca-2160d3610b64",
   "metadata": {},
   "outputs": [
    {
     "name": "stdout",
     "output_type": "stream",
     "text": [
      "    * \n",
      "   * * \n",
      "  * * * \n",
      " * * * * \n",
      "* * * * * \n"
     ]
    }
   ],
   "source": [
    "print_star(5,'mid')"
   ]
  },
  {
   "cell_type": "code",
   "execution_count": 60,
   "id": "7c498a4b-521a-4488-ae9e-7a737ecde2f4",
   "metadata": {},
   "outputs": [
    {
     "name": "stdout",
     "output_type": "stream",
     "text": [
      "        * \n",
      "      * * \n",
      "    * * * \n",
      "  * * * * \n",
      "* * * * * \n"
     ]
    }
   ],
   "source": [
    "print_star(5,'right')"
   ]
  },
  {
   "cell_type": "code",
   "execution_count": 61,
   "id": "cea267b3-94af-4afc-9f73-70ab41afb412",
   "metadata": {},
   "outputs": [
    {
     "name": "stdout",
     "output_type": "stream",
     "text": [
      "* \n",
      "* * \n",
      "* * * \n",
      "* * * * \n",
      "* * * * * \n"
     ]
    }
   ],
   "source": [
    "print_star(5,'left')"
   ]
  },
  {
   "cell_type": "code",
   "execution_count": 83,
   "id": "fd1a334a-1a22-4d30-be21-cd2d4d937bed",
   "metadata": {},
   "outputs": [],
   "source": [
    "def print_star(n=10, typ='left', shape = '*'):\n",
    "    if typ == 'left':\n",
    "        space = ''\n",
    "    elif typ == 'right':\n",
    "        space = '  ' \n",
    "    elif typ == 'mid':\n",
    "        space = ' '\n",
    "    for i in range(1,n+1):\n",
    "        print(space*(n-i) + i*f'{shape} ')\n",
    "    \n"
   ]
  },
  {
   "cell_type": "code",
   "execution_count": 84,
   "id": "7e537949-90e8-4d31-8f1b-a73b059fee50",
   "metadata": {},
   "outputs": [
    {
     "name": "stdout",
     "output_type": "stream",
     "text": [
      "    & \n",
      "   & & \n",
      "  & & & \n",
      " & & & & \n",
      "& & & & & \n"
     ]
    }
   ],
   "source": [
    "print_star(5,'mid','&')"
   ]
  },
  {
   "cell_type": "code",
   "execution_count": 85,
   "id": "b7cfa0a9-8924-4fea-988e-134dd2c5bd3f",
   "metadata": {},
   "outputs": [
    {
     "name": "stdout",
     "output_type": "stream",
     "text": [
      "        # \n",
      "      # # \n",
      "    # # # \n",
      "  # # # # \n",
      "# # # # # \n"
     ]
    }
   ],
   "source": [
    "print_star(5,'right','#')"
   ]
  },
  {
   "cell_type": "code",
   "execution_count": 86,
   "id": "d9eb1946-0e12-4125-a6c9-2b43a3e7631c",
   "metadata": {},
   "outputs": [
    {
     "name": "stdout",
     "output_type": "stream",
     "text": [
      "# \n",
      "# # \n",
      "# # # \n",
      "# # # # \n",
      "# # # # # \n"
     ]
    }
   ],
   "source": [
    "print_star(5,'left','#')"
   ]
  },
  {
   "cell_type": "code",
   "execution_count": 88,
   "id": "db8e5969-e733-40dc-955f-b815808292a5",
   "metadata": {},
   "outputs": [],
   "source": [
    "def sum_of_n_natural_numbers(n):\n",
    "    result = 0\n",
    "    for i in range(1,n+1):\n",
    "        result += i\n",
    "    return result"
   ]
  },
  {
   "cell_type": "code",
   "execution_count": 90,
   "id": "32cc5464-b80c-48d2-b33e-c659b61eafb1",
   "metadata": {},
   "outputs": [
    {
     "data": {
      "text/plain": [
       "506755163278"
      ]
     },
     "execution_count": 90,
     "metadata": {},
     "output_type": "execute_result"
    }
   ],
   "source": [
    "sum_of_n_natural_numbers(1006732)"
   ]
  },
  {
   "cell_type": "code",
   "execution_count": 92,
   "id": "7e4a877d-f04f-4282-96a9-da2db3ee3ef7",
   "metadata": {},
   "outputs": [],
   "source": [
    "def factorial(n):\n",
    "    result = 1\n",
    "    for i in range(1,n+1):\n",
    "        result *= i\n",
    "    return result"
   ]
  },
  {
   "cell_type": "code",
   "execution_count": 93,
   "id": "6788445f-71f9-4268-a80f-a0312056bef0",
   "metadata": {},
   "outputs": [
    {
     "data": {
      "text/plain": [
       "120"
      ]
     },
     "execution_count": 93,
     "metadata": {},
     "output_type": "execute_result"
    }
   ],
   "source": [
    "factorial(5)"
   ]
  },
  {
   "cell_type": "code",
   "execution_count": 95,
   "id": "e865a2d3-5525-4eaa-bed6-84aa4c1e35e4",
   "metadata": {},
   "outputs": [],
   "source": [
    "def total_sales(*args):\n",
    "  #unpacking\n",
    "  result = 0\n",
    "  for i in args:\n",
    "    result += i\n",
    "  return result"
   ]
  },
  {
   "cell_type": "code",
   "execution_count": 96,
   "id": "f0f0b049-61c6-4fe9-89a7-b2f2d0e9c438",
   "metadata": {},
   "outputs": [
    {
     "data": {
      "text/plain": [
       "233"
      ]
     },
     "execution_count": 96,
     "metadata": {},
     "output_type": "execute_result"
    }
   ],
   "source": [
    "total_sales(1,2,76,56,98)"
   ]
  },
  {
   "cell_type": "code",
   "execution_count": 100,
   "id": "d1e1cf5c-7442-4122-ac00-d5412f67c8be",
   "metadata": {},
   "outputs": [],
   "source": [
    "sales = [435,63,456,347,3245,6234,6547,2346,28757,468,2]"
   ]
  },
  {
   "cell_type": "code",
   "execution_count": 101,
   "id": "9e6b8ad3-cd63-4269-b445-22ab93afe37c",
   "metadata": {},
   "outputs": [
    {
     "name": "stdout",
     "output_type": "stream",
     "text": [
      "2\n"
     ]
    }
   ],
   "source": [
    "min_element = sales[0]\n",
    "for i in sales[1:]:\n",
    "    if i<min_element:\n",
    "        min_element = i\n",
    "print(min_element)"
   ]
  },
  {
   "cell_type": "code",
   "execution_count": 104,
   "id": "9ad2940f-8bcb-4949-b16a-f95e1796f2a9",
   "metadata": {},
   "outputs": [
    {
     "name": "stdout",
     "output_type": "stream",
     "text": [
      "28757\n"
     ]
    }
   ],
   "source": [
    "max_element =sales[0]\n",
    "for i in sales[1:]:\n",
    "    if i>max_element:\n",
    "        max_element = i\n",
    "print(max_element)"
   ]
  },
  {
   "cell_type": "code",
   "execution_count": 128,
   "id": "622f548d-5b8a-4f12-b38a-45c752c58bbc",
   "metadata": {},
   "outputs": [],
   "source": [
    "def minn(*data):\n",
    "    min_ele = data[0]\n",
    "    for i in data[1:]:\n",
    "        if i< min_ele:\n",
    "            min_ele = i\n",
    "    return min_ele"
   ]
  },
  {
   "cell_type": "code",
   "execution_count": 129,
   "id": "e00c5fa0-6f2f-4844-a8d3-c7f7be42f636",
   "metadata": {},
   "outputs": [
    {
     "data": {
      "text/plain": [
       "12"
      ]
     },
     "execution_count": 129,
     "metadata": {},
     "output_type": "execute_result"
    }
   ],
   "source": [
    "minn(12,14,56,89,79)"
   ]
  },
  {
   "cell_type": "code",
   "execution_count": 132,
   "id": "6f2020fd-c620-4f25-8da3-1c37fb760c94",
   "metadata": {},
   "outputs": [],
   "source": [
    "def maxx(*data):\n",
    "    max_ele = data[0]\n",
    "    for i in data[1:]:\n",
    "        if i> max_ele:\n",
    "            max_ele = i\n",
    "    return max_ele"
   ]
  },
  {
   "cell_type": "code",
   "execution_count": 133,
   "id": "9590c4e5-1db4-4e0c-baf8-f370b8013ea9",
   "metadata": {},
   "outputs": [
    {
     "data": {
      "text/plain": [
       "89"
      ]
     },
     "execution_count": 133,
     "metadata": {},
     "output_type": "execute_result"
    }
   ],
   "source": [
    "maxx(12,14,56,89,79)"
   ]
  },
  {
   "cell_type": "code",
   "execution_count": 134,
   "id": "c15d258b-3e45-4dd4-b0a7-fe5e7fccf327",
   "metadata": {},
   "outputs": [],
   "source": [
    "company = ['ola','uber','rapido','indrive','adani','tata']\n",
    "\n",
    "# ['#OLA','#UBER','#RAPIDO']\n",
    "\n",
    "\n",
    "\n",
    "def add_hashtag(*company):\n",
    "  result = []\n",
    "  for i in company:\n",
    "    result.append('#'+i.upper())\n",
    "  return result"
   ]
  },
  {
   "cell_type": "code",
   "execution_count": 136,
   "id": "534a0429-a870-4ef3-9629-47f76407bb51",
   "metadata": {},
   "outputs": [
    {
     "data": {
      "text/plain": [
       "['#OLA', '#UBER', '#RAPIDO', '#INDRIVE', '#ADANI', '#TATA']"
      ]
     },
     "execution_count": 136,
     "metadata": {},
     "output_type": "execute_result"
    }
   ],
   "source": [
    "add_hashtag(*company)"
   ]
  },
  {
   "cell_type": "code",
   "execution_count": null,
   "id": "d67b8cce-22de-4139-8bd8-f8698ed462fb",
   "metadata": {},
   "outputs": [],
   "source": []
  }
 ],
 "metadata": {
  "kernelspec": {
   "display_name": "Python 3 (ipykernel)",
   "language": "python",
   "name": "python3"
  },
  "language_info": {
   "codemirror_mode": {
    "name": "ipython",
    "version": 3
   },
   "file_extension": ".py",
   "mimetype": "text/x-python",
   "name": "python",
   "nbconvert_exporter": "python",
   "pygments_lexer": "ipython3",
   "version": "3.13.5"
  }
 },
 "nbformat": 4,
 "nbformat_minor": 5
}
