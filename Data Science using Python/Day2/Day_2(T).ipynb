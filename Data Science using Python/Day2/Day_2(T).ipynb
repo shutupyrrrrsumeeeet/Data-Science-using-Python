{
  "nbformat": 4,
  "nbformat_minor": 0,
  "metadata": {
    "colab": {
      "private_outputs": true,
      "provenance": []
    },
    "kernelspec": {
      "name": "python3",
      "display_name": "Python 3"
    },
    "language_info": {
      "name": "python"
    }
  },
  "cells": [
    {
      "cell_type": "code",
      "execution_count": null,
      "metadata": {
        "id": "CLyY2b14WLxs"
      },
      "outputs": [],
      "source": [
        "import qrcode\n",
        "img = qrcode.make('https://colab.research.google.com/drive/1385I2mII09dDP9aHBhWqaBtuIJwGUZhD?usp=sharing')\n",
        "img.save('myqr.png')\n"
      ]
    },
    {
      "cell_type": "code",
      "source": [
        "# pip install qrcode"
      ],
      "metadata": {
        "id": "yX0dKLpXX2rh"
      },
      "execution_count": null,
      "outputs": []
    },
    {
      "cell_type": "code",
      "source": [
        "def check_palindrome(word):\n",
        "    return word"
      ],
      "metadata": {
        "id": "8bNLYjfJXx4b"
      },
      "execution_count": null,
      "outputs": []
    },
    {
      "cell_type": "code",
      "source": [
        "check_palindrome('Ajay')"
      ],
      "metadata": {
        "id": "nllBR8fuaCxY"
      },
      "execution_count": null,
      "outputs": []
    },
    {
      "cell_type": "code",
      "source": [
        "a = 'lucky'\n",
        "a[::-1]"
      ],
      "metadata": {
        "id": "Ujd2uBSRaEFI"
      },
      "execution_count": null,
      "outputs": []
    },
    {
      "cell_type": "code",
      "source": [
        "a = 'nitin'\n",
        "\n",
        "if a == a[::-1]:\n",
        "  print(f'{a} is a Palindrome')\n",
        "else:\n",
        "  print(f'{a} is Not a Palindrome')"
      ],
      "metadata": {
        "id": "XI55o5RvaGH1"
      },
      "execution_count": null,
      "outputs": []
    },
    {
      "cell_type": "code",
      "source": [
        "def check_palindrome(word:str):\n",
        "  if type(word) == str:\n",
        "    word = word.upper()\n",
        "    if word == word[::-1]:\n",
        "      return 'Palindrome'\n",
        "    else:\n",
        "      return 'Not a Plaindrome'\n",
        "  else:\n",
        "    return 'Invalid Data Type'"
      ],
      "metadata": {
        "id": "ok8GCZ8MaVb6"
      },
      "execution_count": null,
      "outputs": []
    },
    {
      "cell_type": "code",
      "source": [
        "check_palindrome('harry')"
      ],
      "metadata": {
        "id": "njLsiJVHb-If"
      },
      "execution_count": null,
      "outputs": []
    },
    {
      "cell_type": "code",
      "source": [
        "a:int = 'Mohan'\n",
        "print(a)"
      ],
      "metadata": {
        "id": "AnVqjrLicHLJ"
      },
      "execution_count": null,
      "outputs": []
    },
    {
      "cell_type": "code",
      "source": [
        "def give_fibo(n):\n",
        "  fibo = [0,1]\n",
        "  for i in range(n-2):\n",
        "     last_num = fibo[-1]\n",
        "     second_last_num = fibo[-2]\n",
        "     next_num = last_num + second_last_num\n",
        "     fibo.append(next_num)\n",
        "  return fibo"
      ],
      "metadata": {
        "id": "rCTS4b2vdKOC"
      },
      "execution_count": null,
      "outputs": []
    },
    {
      "cell_type": "code",
      "source": [
        "data = [34,65,654,76,856]\n",
        "print(data[-1])\n",
        "print(data[-2])"
      ],
      "metadata": {
        "id": "lF_uy22qhM6o"
      },
      "execution_count": null,
      "outputs": []
    },
    {
      "cell_type": "code",
      "source": [
        "def give_fibo(n):\n",
        "  fibo = [0,1]\n",
        "  for i in range(n-2):\n",
        "     last_num = fibo[-1]\n",
        "     second_last_num = fibo[-2]\n",
        "     next_num = last_num + second_last_num\n",
        "     fibo.append(next_num)\n",
        "  return fibo"
      ],
      "metadata": {
        "id": "uBc1wq6XhW3y"
      },
      "execution_count": null,
      "outputs": []
    },
    {
      "cell_type": "code",
      "source": [
        "print(give_fibo(20))"
      ],
      "metadata": {
        "id": "2cPUanZAqfmS"
      },
      "execution_count": null,
      "outputs": []
    },
    {
      "cell_type": "code",
      "source": [
        "def check_prime(number):\n",
        "    for i in range(2,number):\n",
        "        if number % i == 0:\n",
        "            return 'Not a Prime Number'\n",
        "            break\n",
        "            print('Happy Holi')\n",
        "    else:\n",
        "        return 'Prime Number'"
      ],
      "metadata": {
        "id": "lVYbJ0YVqjRp"
      },
      "execution_count": null,
      "outputs": []
    },
    {
      "cell_type": "code",
      "source": [
        "n = 5\n",
        "\n",
        "for i in range(1,n+1):\n",
        "  print(i * '* ')"
      ],
      "metadata": {
        "id": "Zv3KcRAAqlcG"
      },
      "execution_count": null,
      "outputs": []
    },
    {
      "cell_type": "code",
      "source": [
        "n = 5\n",
        "\n",
        "for i in range(1,n+1):\n",
        "  print(' '*(n-i) + i*'* ')"
      ],
      "metadata": {
        "id": "d9ilhtV6q-0c"
      },
      "execution_count": null,
      "outputs": []
    },
    {
      "cell_type": "code",
      "source": [
        "'hello' + 'World'"
      ],
      "metadata": {
        "id": "DyZQ6QXZr7fU"
      },
      "execution_count": null,
      "outputs": []
    },
    {
      "cell_type": "code",
      "source": [
        "def print_star(n = 5, typ = 'left',shape = '*'):\n",
        "  if typ  == 'left':\n",
        "    space  = ''\n",
        "\n",
        "  elif typ == 'right':\n",
        "    space = '  '\n",
        "\n",
        "  elif typ == 'mid':\n",
        "    space = ' '\n",
        "\n",
        "  for i in range(1,n+1):\n",
        "    print(space*(n-i) + i*f'{shape} ')"
      ],
      "metadata": {
        "id": "aJuGwVuCsDGS"
      },
      "execution_count": null,
      "outputs": []
    },
    {
      "cell_type": "code",
      "source": [
        "print_star(6,'left','%')"
      ],
      "metadata": {
        "id": "XFepMRuRt3Qe"
      },
      "execution_count": null,
      "outputs": []
    },
    {
      "cell_type": "code",
      "source": [
        "def sum_of_n_natural_numbers(n):\n",
        "    result = 0\n",
        "    for i in range(1,n+1):\n",
        "        result += i\n",
        "    return result"
      ],
      "metadata": {
        "id": "PthSYc2lt6Ot"
      },
      "execution_count": null,
      "outputs": []
    },
    {
      "cell_type": "code",
      "source": [
        "def factorial(n):\n",
        "    result = 1\n",
        "    for i in range(1,n+1):\n",
        "        result *= i\n",
        "    return result"
      ],
      "metadata": {
        "id": "82Ndecj50K98"
      },
      "execution_count": null,
      "outputs": []
    },
    {
      "cell_type": "code",
      "source": [
        "def total_sales(*args):\n",
        "  #unpacking\n",
        "  result = 0\n",
        "  for i in args:\n",
        "    result += i\n",
        "  return result"
      ],
      "metadata": {
        "id": "isVCSfQY1mgO"
      },
      "execution_count": null,
      "outputs": []
    },
    {
      "cell_type": "code",
      "source": [
        "total_sales(1,2,76,56,98)"
      ],
      "metadata": {
        "id": "fTIKDTYYAIaB"
      },
      "execution_count": null,
      "outputs": []
    },
    {
      "cell_type": "code",
      "source": [
        "sales = [45678,63,456,347,3245]\n",
        "\n",
        "# min(sales)"
      ],
      "metadata": {
        "id": "LRyJm2kpARna"
      },
      "execution_count": null,
      "outputs": []
    },
    {
      "cell_type": "code",
      "source": [
        "sales = [45678,63,456,2,0]\n",
        "min_element = sales[0]\n",
        "\n",
        "for i in sales[1:]:\n",
        "  if i < min_element:\n",
        "    min_element = i\n",
        "print(min_element)"
      ],
      "metadata": {
        "id": "iq_tKd8eC6PU"
      },
      "execution_count": null,
      "outputs": []
    },
    {
      "cell_type": "code",
      "source": [
        "def minn(*data):\n",
        "  min_ele = data[0]\n",
        "  for i in data[1:]:\n",
        "    if i< min_ele:\n",
        "      min_ele = i\n",
        "  return min_ele"
      ],
      "metadata": {
        "id": "XexWHoFvEZBM"
      },
      "execution_count": null,
      "outputs": []
    },
    {
      "cell_type": "code",
      "source": [
        "minn(376,246,354,8,667,468)"
      ],
      "metadata": {
        "id": "WYXITR0iIhSV"
      },
      "execution_count": null,
      "outputs": []
    },
    {
      "cell_type": "code",
      "source": [
        "# max()"
      ],
      "metadata": {
        "id": "QvTxJzf-Ii9k"
      },
      "execution_count": null,
      "outputs": []
    },
    {
      "cell_type": "code",
      "source": [
        "company = ['ola','uber','rapido','indrive','adani','tata']\n",
        "\n",
        "# ['#OLA','#UBER','#RAPIDO']\n",
        "\n",
        "\n",
        "\n",
        "def add_hashtag(*company):\n",
        "  result = []\n",
        "  for i in company:\n",
        "    result.append('#'+i.upper())\n",
        "  return result\n"
      ],
      "metadata": {
        "id": "tcHcT6A8LA0k"
      },
      "execution_count": null,
      "outputs": []
    },
    {
      "cell_type": "code",
      "source": [
        "add_hashtag(*company)"
      ],
      "metadata": {
        "id": "sT66v49_LIMw"
      },
      "execution_count": null,
      "outputs": []
    },
    {
      "cell_type": "code",
      "source": [
        "def store_records(name,age,sec,roll_no,Class):\n",
        "  data = {'Name':name,'Age':age,'Sec':sec,'Roll_NO':roll_no,'Class':Class}\n",
        "  import pandas as pd\n",
        "  result = pd.DataFrame(data,index = [0])\n",
        "  return result"
      ],
      "metadata": {
        "id": "rTRnaNAlMNlw"
      },
      "execution_count": null,
      "outputs": []
    },
    {
      "cell_type": "code",
      "source": [
        "store_records('Mohan',21,'A',12,12)\n",
        "store_records('Karan',21,'A',12,12)\n",
        "store_records('Naman',21,'A',12,12)"
      ],
      "metadata": {
        "id": "E4rQEvnKQeRH"
      },
      "execution_count": null,
      "outputs": []
    },
    {
      "cell_type": "code",
      "source": [
        "def students_records(**kwargs):\n",
        "    # print(kwargs)\n",
        "    # try exception\n",
        "    import pandas as pd\n",
        "    try:\n",
        "        result = pd.DataFrame(kwargs)\n",
        "        return result\n",
        "    except:\n",
        "        result = pd.DataFrame(kwargs,index = [1])\n",
        "        return result"
      ],
      "metadata": {
        "id": "i25EWlxqROPn"
      },
      "execution_count": null,
      "outputs": []
    },
    {
      "cell_type": "code",
      "source": [
        "students_records(Name = ['Komal','Mohan','Ajay'],\n",
        "                 Age = [23,45,56],\n",
        "                 Roll_No = [23,32,67],\n",
        "                 Address = ['Noida','Delhi','Greater Noida'])"
      ],
      "metadata": {
        "id": "m2HWSfVbXL8B"
      },
      "execution_count": null,
      "outputs": []
    },
    {
      "cell_type": "code",
      "source": [],
      "metadata": {
        "id": "bXv-YPygXNTc"
      },
      "execution_count": null,
      "outputs": []
    }
  ]
}