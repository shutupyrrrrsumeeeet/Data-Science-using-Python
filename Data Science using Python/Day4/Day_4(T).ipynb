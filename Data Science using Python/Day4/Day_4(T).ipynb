{
  "nbformat": 4,
  "nbformat_minor": 0,
  "metadata": {
    "colab": {
      "private_outputs": true,
      "provenance": []
    },
    "kernelspec": {
      "name": "python3",
      "display_name": "Python 3"
    },
    "language_info": {
      "name": "python"
    }
  },
  "cells": [
    {
      "cell_type": "code",
      "execution_count": null,
      "metadata": {
        "id": "v2rpr3APMgbb"
      },
      "outputs": [],
      "source": [
        "import qrcode\n",
        "img = qrcode.make('https://colab.research.google.com/drive/1IAVgqPS3j0la59cGblPCAVijCBtu3WKL?usp=sharing')\n",
        "img.save('myqr.png')"
      ]
    },
    {
      "cell_type": "code",
      "source": [
        "# pip install qrcode"
      ],
      "metadata": {
        "id": "Egg21uEIMp5e"
      },
      "execution_count": null,
      "outputs": []
    },
    {
      "cell_type": "code",
      "source": [
        "# File Handling Part 2\n",
        "# Requests Module Example\n",
        "# OOPs and Pillars\n",
        "# Python to DB Connectivity!!"
      ],
      "metadata": {
        "id": "QAWmmZpuMwpz"
      },
      "execution_count": null,
      "outputs": []
    },
    {
      "cell_type": "code",
      "source": [
        "# Mode:\n",
        "# write: w\n",
        "# new file write/create\n",
        "\n",
        "\n",
        "f = open('day_4.txt',mode = 'w')\n",
        "f.write('This is Day 4 of DS training!!')\n",
        "f.close()\n",
        "print('Done')"
      ],
      "metadata": {
        "id": "J9573GyDNwOZ"
      },
      "execution_count": null,
      "outputs": []
    },
    {
      "cell_type": "code",
      "source": [
        "# pip install googlesearch-python"
      ],
      "metadata": {
        "id": "7QQoAtzTOh05"
      },
      "execution_count": null,
      "outputs": []
    },
    {
      "cell_type": "code",
      "source": [
        "from googlesearch import search\n",
        "\n",
        "title = 'AI ML Complete Tutorial PDF'\n",
        "\n",
        "data = search(title,num_results=50)\n",
        "\n",
        "all_data = []\n",
        "\n",
        "for i in data:\n",
        "  all_data.append(i+'\\n')\n",
        "\n",
        "file = open(f'{title}.txt',mode = 'w')\n",
        "file.writelines(all_data)\n",
        "file.close()\n",
        "print('Done')"
      ],
      "metadata": {
        "id": "2DF7Dqt4Pc3_"
      },
      "execution_count": null,
      "outputs": []
    },
    {
      "cell_type": "code",
      "source": [
        "from googlesearch import search\n",
        "title = 'Java Tutorial PDF'\n",
        "data = search(title,num_results=50)\n",
        "\n",
        "all_data = []\n",
        "\n",
        "for i in data:\n",
        "  all_data.append(i+'\\n')\n",
        "\n",
        "# Mode = x: it only create new file\n",
        "\n",
        "file = open(f'{title}.txt',mode = 'x')\n",
        "file.writelines(all_data)\n",
        "file.close()\n",
        "print('Done')"
      ],
      "metadata": {
        "id": "312sgaLUP6V0"
      },
      "execution_count": null,
      "outputs": []
    },
    {
      "cell_type": "code",
      "source": [
        "from googlesearch import search\n",
        "title = 'Chat GPT Trending News and Investments'\n",
        "data = search(title,num_results=5)\n",
        "\n",
        "all_data = []\n",
        "\n",
        "for i in data:\n",
        "  all_data.append(i+'\\n')\n",
        "\n",
        "# Mode = a: It will append new line\n",
        "\n",
        "file = open(f'{title}.txt',mode = 'a')\n",
        "file.write('=======================================\\n')\n",
        "file.writelines(all_data)\n",
        "file.close()\n",
        "print('Done')"
      ],
      "metadata": {
        "id": "wXARvb-9WxNf"
      },
      "execution_count": null,
      "outputs": []
    },
    {
      "cell_type": "code",
      "source": [
        "# mode = +"
      ],
      "metadata": {
        "id": "-9InbCchYzpP"
      },
      "execution_count": null,
      "outputs": []
    },
    {
      "cell_type": "code",
      "source": [
        "f = open('new.txt','w')\n",
        "print(f.read())\n",
        "f.close()"
      ],
      "metadata": {
        "id": "W_PnMHOUaZZp"
      },
      "execution_count": null,
      "outputs": []
    },
    {
      "cell_type": "code",
      "source": [
        "f = open('day_4.txt','r')\n",
        "f.write('This is just a Line!!')\n",
        "f.close()"
      ],
      "metadata": {
        "id": "agZrXfXzatQl"
      },
      "execution_count": null,
      "outputs": []
    },
    {
      "cell_type": "code",
      "source": [
        "f = open('day_4.txt','r+')\n",
        "print(f.read())\n",
        "f.write('\\nThis is again a New Line!!')\n",
        "f.close()"
      ],
      "metadata": {
        "id": "X2AqWEcIbEjd"
      },
      "execution_count": null,
      "outputs": []
    },
    {
      "cell_type": "code",
      "source": [
        "# mode = w+"
      ],
      "metadata": {
        "id": "UKCsv7YlbudT"
      },
      "execution_count": null,
      "outputs": []
    },
    {
      "cell_type": "code",
      "source": [
        "f = open('day_4.txt','w+')\n",
        "f.write('\\nThis is again a New Line!!')\n",
        "f.seek(1)\n",
        "print(f.read())\n",
        "f.close()\n",
        "print('Done')"
      ],
      "metadata": {
        "id": "vmFhEH_zdgjJ"
      },
      "execution_count": null,
      "outputs": []
    },
    {
      "cell_type": "code",
      "source": [
        "# mode = a+\n",
        "# mode = x+\n",
        "# r, w, r+, w+, t"
      ],
      "metadata": {
        "id": "8BHcbVhLd_H5"
      },
      "execution_count": null,
      "outputs": []
    },
    {
      "cell_type": "code",
      "source": [
        "# f = open('day_4.txt','t')\n",
        "# f.read()"
      ],
      "metadata": {
        "id": "AphmwB1Jf4Qh"
      },
      "execution_count": null,
      "outputs": []
    },
    {
      "cell_type": "code",
      "source": [
        "f1 = open('day_4.txt','r')\n",
        "all_data = f1.read()\n",
        "\n",
        "f2 = open('day_4_copy.txt','w')\n",
        "f2.write(all_data)\n",
        "\n",
        "f1.close()\n",
        "f2.close()\n",
        "print('Done')"
      ],
      "metadata": {
        "id": "o6AxDPZOf_6o"
      },
      "execution_count": null,
      "outputs": []
    },
    {
      "cell_type": "code",
      "source": [
        "url = '''https://github.com/ankitIITM1234/Data-Science-complete-Training-IITM/tree/main'''\n",
        "import qrcode\n",
        "img = qrcode.make(url)\n",
        "img.save('gitqr.png')"
      ],
      "metadata": {
        "id": "UEdDGUv4g-lC"
      },
      "execution_count": null,
      "outputs": []
    },
    {
      "cell_type": "code",
      "source": [],
      "metadata": {
        "id": "5oaxKOJOmoLi"
      },
      "execution_count": null,
      "outputs": []
    },
    {
      "cell_type": "markdown",
      "source": [
        "# Binary File Handling"
      ],
      "metadata": {
        "id": "PQnenq6hxyl-"
      }
    },
    {
      "cell_type": "code",
      "source": [
        "# Binary File Data = Bytes Format"
      ],
      "metadata": {
        "id": "ka917mn4x-2Z"
      },
      "execution_count": null,
      "outputs": []
    },
    {
      "cell_type": "code",
      "source": [
        "# copy data from binary file and create a new one"
      ],
      "metadata": {
        "id": "-EcPfV-EymDK"
      },
      "execution_count": null,
      "outputs": []
    },
    {
      "cell_type": "code",
      "source": [
        "path = r'''/content/iron_man.jpg'''\n",
        "file = open(path,mode = 'rb')\n",
        "data = file.read()\n",
        "print('Done')"
      ],
      "metadata": {
        "id": "qJhkuqRzyy_F"
      },
      "execution_count": null,
      "outputs": []
    },
    {
      "cell_type": "code",
      "source": [
        "type(data)"
      ],
      "metadata": {
        "id": "sig_a4SS3mpl"
      },
      "execution_count": null,
      "outputs": []
    },
    {
      "cell_type": "code",
      "source": [
        "file"
      ],
      "metadata": {
        "id": "ViwKAQmz4AHn"
      },
      "execution_count": null,
      "outputs": []
    },
    {
      "cell_type": "code",
      "source": [
        "print(data[:200])"
      ],
      "metadata": {
        "id": "ffa8w6Nx5ee7"
      },
      "execution_count": null,
      "outputs": []
    },
    {
      "cell_type": "code",
      "source": [
        "f = open('image.jpg',mode = 'wb')\n",
        "f.write(data)\n",
        "f.close()\n",
        "print('Done')"
      ],
      "metadata": {
        "id": "_677vBXj5_gX"
      },
      "execution_count": null,
      "outputs": []
    },
    {
      "cell_type": "code",
      "source": [
        "url = '''https://assets.telegraphindia.com/telegraph/2025/May/1747225389_shinchan-movie.jpg'''\n",
        "\n",
        "import requests as r\n",
        "image_data = r.get(url).content\n",
        "type(image_data)"
      ],
      "metadata": {
        "id": "65xbGEME60Sb"
      },
      "execution_count": null,
      "outputs": []
    },
    {
      "cell_type": "code",
      "source": [
        "url = '''https://i.ytimg.com/vi/BU3EiFDaokw/hq720.jpg?sqp=-oaymwEhCK4FEIIDSFryq4qpAxMIARUAAAAAGAElAADIQj0AgKJD&rs=AOn4CLCFG0ZjoF9bm65ud_1UvG1MdPpV-g'''\n",
        "\n",
        "import requests as r\n",
        "image_data = r.get(url).content\n",
        "\n",
        "\n",
        "f = open('download_image.jpg','wb')\n",
        "f.write(image_data)\n",
        "f.close()\n",
        "\n",
        "from IPython import display\n",
        "display.Image('download_image.jpg')"
      ],
      "metadata": {
        "id": "X7MrBnlw8_SU"
      },
      "execution_count": null,
      "outputs": []
    },
    {
      "cell_type": "code",
      "source": [],
      "metadata": {
        "id": "JhsZAOC4_DnA"
      },
      "execution_count": null,
      "outputs": []
    },
    {
      "cell_type": "code",
      "source": [
        "url = '''https://picsum.photos/1080/720'''\n",
        "import requests as r\n",
        "n = 10\n",
        "for i in range(n):\n",
        "  img_data = r.get(url).content\n",
        "  f = open(f'image_{i}.jpg','wb')\n",
        "  f.write(img_data)\n",
        "  f.close()\n",
        "  from IPython import display as d\n",
        "  display(d.Image(f'image_{i}.jpg',width=200,height=200))\n",
        "\n"
      ],
      "metadata": {
        "id": "-SzazIjH_OOu"
      },
      "execution_count": null,
      "outputs": []
    },
    {
      "cell_type": "code",
      "source": [
        "url_path = '''https://www.python.org/ftp/python/3.13.5/python-3.13.5-amd64.exe'''\n",
        "\n",
        "# context manager\n",
        "import requests as r\n",
        "with open(r'C:\\Users\\salma\\OneDrive\\Desktop\\DATA Science IITM\\Ankit.exe','wb') as file:\n",
        "    file.write(r.get(url_path).content)\n",
        "\n",
        "print('Done')\n"
      ],
      "metadata": {
        "id": "F9yB4xE6E52O"
      },
      "execution_count": null,
      "outputs": []
    }
  ]
}