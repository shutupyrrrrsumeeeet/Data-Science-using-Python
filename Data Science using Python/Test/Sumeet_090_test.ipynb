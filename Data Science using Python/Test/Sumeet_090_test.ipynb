{
 "cells": [
  {
   "cell_type": "code",
   "execution_count": 5,
   "id": "67a8a096-d837-4eac-b369-4973e3f7ad48",
   "metadata": {},
   "outputs": [
    {
     "name": "stdout",
     "output_type": "stream",
     "text": [
      "[1, 2, 3, 4, 5]\n",
      "(1, 2, 3, 4, 5)\n"
     ]
    }
   ],
   "source": [
    "#question 1 \n",
    "#list - mutable i.e. changable\n",
    "#tuple - immutable i.e. unchangable\n",
    "\n",
    "\n",
    "#example \n",
    "\n",
    "list_a = [1,2,3,4,5]\n",
    "print(list_a)\n",
    "tuple_a = (1,2,3,4,5)\n",
    "print(tuple_a)"
   ]
  },
  {
   "cell_type": "code",
   "execution_count": 8,
   "id": "e05d34e3-4089-4d27-a758-5624b186d3ac",
   "metadata": {},
   "outputs": [
    {
     "name": "stdin",
     "output_type": "stream",
     "text": [
      "Enter your roll no 12\n"
     ]
    },
    {
     "name": "stdout",
     "output_type": "stream",
     "text": [
      "<class 'str'>\n"
     ]
    }
   ],
   "source": [
    "#question 2\n",
    "#input() function is used to get input from the user.\n",
    "#It returns string data type.\n",
    "#convert it into an integer by typecasting.\n",
    "\n",
    "Roll_no = input('Enter your roll no')\n",
    "print(type(Roll_no))"
   ]
  },
  {
   "cell_type": "code",
   "execution_count": 11,
   "id": "46efee1e-7d27-442b-9bda-4284d8b9bc3a",
   "metadata": {},
   "outputs": [
    {
     "name": "stdin",
     "output_type": "stream",
     "text": [
      "Enter your roll no 12\n"
     ]
    },
    {
     "name": "stdout",
     "output_type": "stream",
     "text": [
      "<class 'int'>\n"
     ]
    }
   ],
   "source": [
    "#typecasting\n",
    "Roll_no = int(input('Enter your roll no'))\n",
    "print(type(Roll_no))"
   ]
  },
  {
   "cell_type": "code",
   "execution_count": 20,
   "id": "3b2046da-7a6f-485b-b688-3daa85662718",
   "metadata": {},
   "outputs": [
    {
     "name": "stdout",
     "output_type": "stream",
     "text": [
      "{'Name': 'Sumeet', 'Class': 'E2', 'Roll_number': 90}\n"
     ]
    }
   ],
   "source": [
    "#question 3\n",
    "#dictionary is a key value pair. example name : sumeet, class : E2\n",
    "a = { 'Name' : 'Sumeet','Class' : 'E2','Roll_number':90}\n",
    "print(a)"
   ]
  },
  {
   "cell_type": "code",
   "execution_count": 22,
   "id": "32a155b6-60bd-48a7-ad9f-6ae3f8470b72",
   "metadata": {},
   "outputs": [
    {
     "name": "stdout",
     "output_type": "stream",
     "text": [
      "1\n",
      "2\n",
      "3\n",
      "4\n",
      "5\n"
     ]
    }
   ],
   "source": [
    "#question 4\n",
    "\n",
    "\n",
    "for i in range(5):\n",
    "    print(i+1)\n"
   ]
  },
  {
   "cell_type": "code",
   "execution_count": 69,
   "id": "a43ee63b-955e-4b0d-9049-9006a4b59c49",
   "metadata": {},
   "outputs": [
    {
     "name": "stdin",
     "output_type": "stream",
     "text": [
      "Enter your age 20\n"
     ]
    },
    {
     "name": "stdout",
     "output_type": "stream",
     "text": [
      "you are eligible to vote\n",
      "Thanks for visiting\n"
     ]
    }
   ],
   "source": [
    "#question 5 \n",
    "#exceptions are unexpected and unwanted errors, that interrupt the execution of a code. The process of handling those exceptions is called exception handling.\n",
    "\n",
    "a = int(input('Enter your age'))\n",
    "\n",
    "try:\n",
    "    if a >= 18:\n",
    "        print('you are eligible to vote')\n",
    "    else:\n",
    "        print('you are not eligible to vote')\n",
    "\n",
    "except ValueError:\n",
    "    print('Invalid Data Type')\n",
    "\n",
    "\n",
    "finally:\n",
    "     print('Thanks for visiting')\n",
    "\n",
    "\n",
    "\n"
   ]
  },
  {
   "cell_type": "code",
   "execution_count": 48,
   "id": "f6e97e0d-ec71-43c4-8437-05c0da931282",
   "metadata": {},
   "outputs": [],
   "source": [
    "#question 10 \n",
    "\n",
    "def intro():\n",
    "    name = input('Enter your Name')\n",
    "    age = input('Enter your Age')\n",
    "    print('Hello' + ' ' + name)\n",
    "    print('You are' + ' ' + age + ' ' 'years old!')\n",
    "\n",
    "    "
   ]
  },
  {
   "cell_type": "code",
   "execution_count": 49,
   "id": "2adf381a-b3d6-480a-8a35-4707247faaec",
   "metadata": {},
   "outputs": [
    {
     "name": "stdin",
     "output_type": "stream",
     "text": [
      "Enter your Name sumeet\n",
      "Enter your Age 19\n"
     ]
    },
    {
     "name": "stdout",
     "output_type": "stream",
     "text": [
      "Hello sumeet\n",
      "You are 19 years old!\n"
     ]
    }
   ],
   "source": [
    "intro()"
   ]
  },
  {
   "cell_type": "code",
   "execution_count": 83,
   "id": "2f23ff21-60ad-4b99-a4d0-5a6e946e8927",
   "metadata": {},
   "outputs": [
    {
     "name": "stdout",
     "output_type": "stream",
     "text": [
      "1.Apple\n",
      "2.Banana\n",
      "3.Grapes\n",
      "4.Chikoo\n",
      "5.Litchee\n"
     ]
    }
   ],
   "source": [
    "#question 11\n",
    "\n",
    "\n",
    "\n",
    "fruit = ['Apple','Banana','Grapes','Chikoo','Litchee']\n",
    "\n",
    "for index, fruit in enumerate(fruit, start =1):\n",
    "    print(f'{index}.{fruit}')\n",
    "\n"
   ]
  },
  {
   "cell_type": "code",
   "execution_count": 76,
   "id": "98f22a04-940d-42aa-97bc-c792ed7c987a",
   "metadata": {},
   "outputs": [],
   "source": [
    "#question9\n",
    "\n",
    "\n",
    "def circle_area():\n",
    "    r = int(input('Enter radius'))\n",
    "    p = 3.14\n",
    "    area = p*r*r\n",
    "    return area"
   ]
  },
  {
   "cell_type": "code",
   "execution_count": 77,
   "id": "2a38dc4a-9545-4b56-862c-ccb3c9b2a0c0",
   "metadata": {},
   "outputs": [
    {
     "name": "stdin",
     "output_type": "stream",
     "text": [
      "Enter radius 5\n"
     ]
    },
    {
     "data": {
      "text/plain": [
       "78.5"
      ]
     },
     "execution_count": 77,
     "metadata": {},
     "output_type": "execute_result"
    }
   ],
   "source": [
    "circle_area()"
   ]
  },
  {
   "cell_type": "code",
   "execution_count": 3,
   "id": "4194f6d0-0094-4739-ac85-00afb0c8c739",
   "metadata": {},
   "outputs": [],
   "source": [
    "#question 7 \n",
    "#Object oriented programming in python includes encapsulation,abstraction,polymorphism,inheritance\n",
    "#programming using classes and instances\n",
    "\n",
    "\n",
    "class Dog:\n",
    "\n",
    "  def barks(self):\n",
    "    print('Bhow Bhow')\n",
    "\n",
    "  \n"
   ]
  },
  {
   "cell_type": "code",
   "execution_count": 4,
   "id": "ac521488-12fb-491c-a455-cc93fd7ca15f",
   "metadata": {},
   "outputs": [],
   "source": [
    "Jimmy = Dog()"
   ]
  },
  {
   "cell_type": "code",
   "execution_count": 6,
   "id": "e6520fe5-7fd0-4c2b-9c87-60fc579926be",
   "metadata": {},
   "outputs": [
    {
     "name": "stdout",
     "output_type": "stream",
     "text": [
      "Bhow Bhow\n"
     ]
    }
   ],
   "source": [
    "Jimmy.barks()"
   ]
  },
  {
   "cell_type": "code",
   "execution_count": null,
   "id": "c5e328cd-5c40-4854-9ba7-22dc746315ff",
   "metadata": {},
   "outputs": [],
   "source": []
  }
 ],
 "metadata": {
  "kernelspec": {
   "display_name": "Python 3 (ipykernel)",
   "language": "python",
   "name": "python3"
  },
  "language_info": {
   "codemirror_mode": {
    "name": "ipython",
    "version": 3
   },
   "file_extension": ".py",
   "mimetype": "text/x-python",
   "name": "python",
   "nbconvert_exporter": "python",
   "pygments_lexer": "ipython3",
   "version": "3.13.5"
  }
 },
 "nbformat": 4,
 "nbformat_minor": 5
}
