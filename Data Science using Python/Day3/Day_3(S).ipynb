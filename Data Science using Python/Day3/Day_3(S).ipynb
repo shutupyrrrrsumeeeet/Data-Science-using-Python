{
 "cells": [
  {
   "cell_type": "code",
   "execution_count": 1,
   "id": "b60fd6a7-5f9a-4b53-9a3d-e9d28936b733",
   "metadata": {},
   "outputs": [],
   "source": [
    "def student_records(**kwargs):\n",
    "  import pandas as pd\n",
    "  try:\n",
    "    data = pd.DataFrame(kwargs)\n",
    "    return data\n",
    "  except:\n",
    "    data = pd.DataFrame(kwargs,index = [1])\n",
    "    return data"
   ]
  },
  {
   "cell_type": "code",
   "execution_count": 5,
   "id": "d60e960b-b911-4942-8a93-9d8187ab8903",
   "metadata": {},
   "outputs": [
    {
     "data": {
      "text/html": [
       "<div>\n",
       "<style scoped>\n",
       "    .dataframe tbody tr th:only-of-type {\n",
       "        vertical-align: middle;\n",
       "    }\n",
       "\n",
       "    .dataframe tbody tr th {\n",
       "        vertical-align: top;\n",
       "    }\n",
       "\n",
       "    .dataframe thead th {\n",
       "        text-align: right;\n",
       "    }\n",
       "</style>\n",
       "<table border=\"1\" class=\"dataframe\">\n",
       "  <thead>\n",
       "    <tr style=\"text-align: right;\">\n",
       "      <th></th>\n",
       "      <th>Name</th>\n",
       "      <th>Age</th>\n",
       "      <th>Address</th>\n",
       "      <th>Sec</th>\n",
       "    </tr>\n",
       "  </thead>\n",
       "  <tbody>\n",
       "    <tr>\n",
       "      <th>0</th>\n",
       "      <td>aman</td>\n",
       "      <td>12</td>\n",
       "      <td>Noida</td>\n",
       "      <td>A</td>\n",
       "    </tr>\n",
       "    <tr>\n",
       "      <th>1</th>\n",
       "      <td>karan</td>\n",
       "      <td>24</td>\n",
       "      <td>delhi</td>\n",
       "      <td>B</td>\n",
       "    </tr>\n",
       "    <tr>\n",
       "      <th>2</th>\n",
       "      <td>anuj</td>\n",
       "      <td>36</td>\n",
       "      <td>punjab</td>\n",
       "      <td>C</td>\n",
       "    </tr>\n",
       "  </tbody>\n",
       "</table>\n",
       "</div>"
      ],
      "text/plain": [
       "    Name  Age Address Sec\n",
       "0   aman   12   Noida   A\n",
       "1  karan   24   delhi   B\n",
       "2   anuj   36  punjab   C"
      ]
     },
     "execution_count": 5,
     "metadata": {},
     "output_type": "execute_result"
    }
   ],
   "source": [
    "student_records(Name = ['aman','karan','anuj'],\n",
    "                Age = [12,24,36],\n",
    "                Address = ['Noida','delhi','punjab'],\n",
    "               Sec = list('ABC'))"
   ]
  },
  {
   "cell_type": "code",
   "execution_count": 23,
   "id": "c9a9677f-fc6e-4a43-9937-6ca3d3a5ec22",
   "metadata": {},
   "outputs": [],
   "source": [
    "def show_time():\n",
    "    try:\n",
    "        while True:\n",
    "            import time\n",
    "            print(time.asctime())\n",
    "            time.sleep(1)\n",
    "            display(clear = True)\\\n",
    "\n",
    "            \n",
    "    except:\n",
    "        print('timer has been stopped!!')"
   ]
  },
  {
   "cell_type": "code",
   "execution_count": 11,
   "id": "ceec04af-99d3-4f65-a05e-5afe71a91271",
   "metadata": {},
   "outputs": [
    {
     "name": "stdout",
     "output_type": "stream",
     "text": [
      "Fri Jul  4 10:40:00 2025\n",
      "timer has been stopped!!\n"
     ]
    }
   ],
   "source": [
    "show_time()"
   ]
  },
  {
   "cell_type": "code",
   "execution_count": null,
   "id": "6315a474-66a4-40f7-9752-2635b7f611de",
   "metadata": {},
   "outputs": [],
   "source": []
  },
  {
   "cell_type": "code",
   "execution_count": null,
   "id": "16396986-0782-4286-884a-0388771a64c8",
   "metadata": {},
   "outputs": [],
   "source": []
  },
  {
   "cell_type": "code",
   "execution_count": null,
   "id": "5b1ef12d-57c2-4597-a500-3ce6520edf94",
   "metadata": {},
   "outputs": [],
   "source": []
  },
  {
   "cell_type": "code",
   "execution_count": 1,
   "id": "12a57ac3-206d-4b8e-9cbc-83e67357d6d7",
   "metadata": {},
   "outputs": [
    {
     "name": "stdout",
     "output_type": "stream",
     "text": [
      "This is sumeet module\n",
      "Info: https://www.google.com/\n"
     ]
    }
   ],
   "source": [
    "import sumeet as sum"
   ]
  },
  {
   "cell_type": "code",
   "execution_count": 2,
   "id": "77899e9d-75fc-4717-b364-4a8294f14d6d",
   "metadata": {},
   "outputs": [
    {
     "name": "stdout",
     "output_type": "stream",
     "text": [
      "done\n"
     ]
    }
   ],
   "source": [
    "print('done')"
   ]
  },
  {
   "cell_type": "code",
   "execution_count": 5,
   "id": "db93b44d-9110-428a-9aab-488e83d426b7",
   "metadata": {},
   "outputs": [
    {
     "name": "stdout",
     "output_type": "stream",
     "text": [
      "                  # \n",
      "                # # \n",
      "              # # # \n",
      "            # # # # \n",
      "          # # # # # \n",
      "        # # # # # # \n",
      "      # # # # # # # \n",
      "    # # # # # # # # \n",
      "  # # # # # # # # # \n",
      "# # # # # # # # # # \n"
     ]
    }
   ],
   "source": [
    "sum.print_star(n=10, typ='right', shape='#')"
   ]
  },
  {
   "cell_type": "code",
   "execution_count": 6,
   "id": "6bb54a7a-bd5a-487e-bd0e-8a534637a9af",
   "metadata": {},
   "outputs": [
    {
     "data": {
      "text/plain": [
       "'prime number'"
      ]
     },
     "execution_count": 6,
     "metadata": {},
     "output_type": "execute_result"
    }
   ],
   "source": [
    "sum.check_prime(7)"
   ]
  },
  {
   "cell_type": "code",
   "execution_count": 16,
   "id": "ef81590d-5d73-4886-8b6b-04d3e301ae9f",
   "metadata": {},
   "outputs": [
    {
     "data": {
      "text/plain": [
       "[0, 1, 1, 2, 3, 5, 8, 13, 21, 34, 55, 89]"
      ]
     },
     "execution_count": 16,
     "metadata": {},
     "output_type": "execute_result"
    }
   ],
   "source": [
    "sum.give_fibo(12)"
   ]
  },
  {
   "cell_type": "code",
   "execution_count": 17,
   "id": "9d130a93-b535-4688-9712-3afb20d8b501",
   "metadata": {},
   "outputs": [
    {
     "data": {
      "text/plain": [
       "1035"
      ]
     },
     "execution_count": 17,
     "metadata": {},
     "output_type": "execute_result"
    }
   ],
   "source": [
    "sum.sum_of_n_natural_numbers(45)"
   ]
  },
  {
   "cell_type": "code",
   "execution_count": 21,
   "id": "7e31bcee-b64a-4a5f-8e06-177bb734a577",
   "metadata": {},
   "outputs": [],
   "source": [
    "#!pip install gTTS\n",
    "from gtts import gTTS"
   ]
  },
  {
   "cell_type": "code",
   "execution_count": 25,
   "id": "093f96f4-6983-4479-8ad6-5cf81fbdf1ed",
   "metadata": {},
   "outputs": [
    {
     "ename": "NameError",
     "evalue": "name 'gTTS' is not defined",
     "output_type": "error",
     "traceback": [
      "\u001b[1;31m---------------------------------------------------------------------------\u001b[0m",
      "\u001b[1;31mNameError\u001b[0m                                 Traceback (most recent call last)",
      "Cell \u001b[1;32mIn[25], line 1\u001b[0m\n\u001b[1;32m----> 1\u001b[0m \u001b[38;5;28msum\u001b[39m\u001b[38;5;241m.\u001b[39msound_box(\u001b[38;5;241m10\u001b[39m)\n",
      "File \u001b[1;32m~\\sumeet.py:106\u001b[0m, in \u001b[0;36msound_box\u001b[1;34m(paisa, platform)\u001b[0m\n\u001b[0;32m    104\u001b[0m \u001b[38;5;28;01mdef\u001b[39;00m\u001b[38;5;250m \u001b[39m\u001b[38;5;21msound_box\u001b[39m(paisa,platform \u001b[38;5;241m=\u001b[39m \u001b[38;5;124m'\u001b[39m\u001b[38;5;124mPaytm\u001b[39m\u001b[38;5;124m'\u001b[39m):\n\u001b[0;32m    105\u001b[0m     text  \u001b[38;5;241m=\u001b[39m \u001b[38;5;124mf\u001b[39m\u001b[38;5;124m'''\u001b[39m\u001b[38;5;132;01m{\u001b[39;00mplatform\u001b[38;5;132;01m}\u001b[39;00m\u001b[38;5;124m par \u001b[39m\u001b[38;5;132;01m{\u001b[39;00mpaisa\u001b[38;5;132;01m}\u001b[39;00m\u001b[38;5;124m rs Prapt hue.\u001b[39m\u001b[38;5;124m'''\u001b[39m\n\u001b[1;32m--> 106\u001b[0m     audio \u001b[38;5;241m=\u001b[39m gTTS(text)\n\u001b[0;32m    107\u001b[0m     audio\u001b[38;5;241m.\u001b[39msave(\u001b[38;5;124m'\u001b[39m\u001b[38;5;124mpaytm.mp3\u001b[39m\u001b[38;5;124m'\u001b[39m)\n\u001b[0;32m    109\u001b[0m     \u001b[38;5;28;01mimport\u001b[39;00m\u001b[38;5;250m \u001b[39m\u001b[38;5;21;01mpygame\u001b[39;00m\u001b[38;5;250m \u001b[39m\u001b[38;5;28;01mas\u001b[39;00m\u001b[38;5;250m \u001b[39m\u001b[38;5;21;01mp\u001b[39;00m\n",
      "\u001b[1;31mNameError\u001b[0m: name 'gTTS' is not defined"
     ]
    }
   ],
   "source": [
    "sum.sound_box(10)"
   ]
  },
  {
   "cell_type": "code",
   "execution_count": 1,
   "id": "837c2cea-a8b7-4db7-b114-992fac2609d8",
   "metadata": {},
   "outputs": [
    {
     "name": "stdout",
     "output_type": "stream",
     "text": [
      "This is sumeet module\n",
      "Info: https://www.google.com/\n"
     ]
    }
   ],
   "source": [
    "import sumeet as sum"
   ]
  },
  {
   "cell_type": "code",
   "execution_count": 2,
   "id": "96e7edfe-d9e5-4318-abee-746a3628c6c3",
   "metadata": {},
   "outputs": [
    {
     "ename": "ModuleNotFoundError",
     "evalue": "No module named 'pygame'",
     "output_type": "error",
     "traceback": [
      "\u001b[1;31m---------------------------------------------------------------------------\u001b[0m",
      "\u001b[1;31mModuleNotFoundError\u001b[0m                       Traceback (most recent call last)",
      "Cell \u001b[1;32mIn[2], line 1\u001b[0m\n\u001b[1;32m----> 1\u001b[0m \u001b[38;5;28msum\u001b[39m\u001b[38;5;241m.\u001b[39msound_box(\u001b[38;5;241m10\u001b[39m)\n",
      "File \u001b[1;32m~\\sumeet.py:110\u001b[0m, in \u001b[0;36msound_box\u001b[1;34m(paisa, platform)\u001b[0m\n\u001b[0;32m    107\u001b[0m audio \u001b[38;5;241m=\u001b[39m gTTS(text)\n\u001b[0;32m    108\u001b[0m audio\u001b[38;5;241m.\u001b[39msave(\u001b[38;5;124m'\u001b[39m\u001b[38;5;124mpaytm.mp3\u001b[39m\u001b[38;5;124m'\u001b[39m)\n\u001b[1;32m--> 110\u001b[0m \u001b[38;5;28;01mimport\u001b[39;00m\u001b[38;5;250m \u001b[39m\u001b[38;5;21;01mpygame\u001b[39;00m\u001b[38;5;250m \u001b[39m\u001b[38;5;28;01mas\u001b[39;00m\u001b[38;5;250m \u001b[39m\u001b[38;5;21;01mp\u001b[39;00m\n\u001b[0;32m    111\u001b[0m p\u001b[38;5;241m.\u001b[39minit()\n\u001b[0;32m    113\u001b[0m music \u001b[38;5;241m=\u001b[39m p\u001b[38;5;241m.\u001b[39mmixer\u001b[38;5;241m.\u001b[39mSound(\u001b[38;5;124m'\u001b[39m\u001b[38;5;124mpaytm.mp3\u001b[39m\u001b[38;5;124m'\u001b[39m)\n",
      "\u001b[1;31mModuleNotFoundError\u001b[0m: No module named 'pygame'"
     ]
    }
   ],
   "source": [
    "sum.sound_box(10)"
   ]
  },
  {
   "cell_type": "code",
   "execution_count": 3,
   "id": "1a481719-58db-43aa-9386-d80491bcabee",
   "metadata": {},
   "outputs": [
    {
     "ename": "ModuleNotFoundError",
     "evalue": "No module named 'pygame'",
     "output_type": "error",
     "traceback": [
      "\u001b[1;31m---------------------------------------------------------------------------\u001b[0m",
      "\u001b[1;31mModuleNotFoundError\u001b[0m                       Traceback (most recent call last)",
      "Cell \u001b[1;32mIn[3], line 1\u001b[0m\n\u001b[1;32m----> 1\u001b[0m \u001b[38;5;28;01mimport\u001b[39;00m\u001b[38;5;250m \u001b[39m\u001b[38;5;21;01mpygame\u001b[39;00m\u001b[38;5;250m \u001b[39m\u001b[38;5;28;01mas\u001b[39;00m\u001b[38;5;250m \u001b[39m\u001b[38;5;21;01mp\u001b[39;00m\n",
      "\u001b[1;31mModuleNotFoundError\u001b[0m: No module named 'pygame'"
     ]
    }
   ],
   "source": [
    "import pygame as p"
   ]
  },
  {
   "cell_type": "code",
   "execution_count": 5,
   "id": "ac28ae6d-0155-4600-874c-9d46e975368c",
   "metadata": {},
   "outputs": [
    {
     "name": "stdout",
     "output_type": "stream",
     "text": [
      "pygame 2.6.1 (SDL 2.28.4, Python 3.13.5)\n",
      "Hello from the pygame community. https://www.pygame.org/contribute.html\n"
     ]
    }
   ],
   "source": [
    "#!pip install pygame\n",
    "import pygame as p"
   ]
  },
  {
   "cell_type": "code",
   "execution_count": 10,
   "id": "6a1591d3-b668-40d1-ba4b-9d72dc9ba90d",
   "metadata": {},
   "outputs": [],
   "source": [
    "sum.sound_box(100000000000000000000000000)"
   ]
  },
  {
   "cell_type": "code",
   "execution_count": null,
   "id": "6d161e4b-e7fc-488b-8b5d-2cc4b05bca82",
   "metadata": {},
   "outputs": [],
   "source": []
  },
  {
   "cell_type": "code",
   "execution_count": 12,
   "id": "80c2ab71-a356-46be-b1e5-76eccedec772",
   "metadata": {},
   "outputs": [
    {
     "data": {
      "text/html": [
       "<div>\n",
       "<style scoped>\n",
       "    .dataframe tbody tr th:only-of-type {\n",
       "        vertical-align: middle;\n",
       "    }\n",
       "\n",
       "    .dataframe tbody tr th {\n",
       "        vertical-align: top;\n",
       "    }\n",
       "\n",
       "    .dataframe thead th {\n",
       "        text-align: right;\n",
       "    }\n",
       "</style>\n",
       "<table border=\"1\" class=\"dataframe\">\n",
       "  <thead>\n",
       "    <tr style=\"text-align: right;\">\n",
       "      <th></th>\n",
       "      <th>name</th>\n",
       "      <th>age</th>\n",
       "      <th>city</th>\n",
       "    </tr>\n",
       "  </thead>\n",
       "  <tbody>\n",
       "    <tr>\n",
       "      <th>1</th>\n",
       "      <td>aman</td>\n",
       "      <td>19</td>\n",
       "      <td>delhi</td>\n",
       "    </tr>\n",
       "  </tbody>\n",
       "</table>\n",
       "</div>"
      ],
      "text/plain": [
       "   name  age   city\n",
       "1  aman   19  delhi"
      ]
     },
     "execution_count": 12,
     "metadata": {},
     "output_type": "execute_result"
    }
   ],
   "source": [
    "sum.students_records(name = 'aman', age = 19, city = 'delhi')"
   ]
  },
  {
   "cell_type": "code",
   "execution_count": 13,
   "id": "ea5e3a55-2e4c-4892-89c7-61eb05652e20",
   "metadata": {},
   "outputs": [
    {
     "ename": "NameError",
     "evalue": "name 'sound_box' is not defined",
     "output_type": "error",
     "traceback": [
      "\u001b[1;31m---------------------------------------------------------------------------\u001b[0m",
      "\u001b[1;31mNameError\u001b[0m                                 Traceback (most recent call last)",
      "Cell \u001b[1;32mIn[13], line 1\u001b[0m\n\u001b[1;32m----> 1\u001b[0m sound_box(\u001b[38;5;241m12\u001b[39m)\n",
      "\u001b[1;31mNameError\u001b[0m: name 'sound_box' is not defined"
     ]
    }
   ],
   "source": [
    "sound_box(12)"
   ]
  },
  {
   "cell_type": "code",
   "execution_count": 14,
   "id": "20d26a21-d3db-448b-80ca-b5306d82822c",
   "metadata": {},
   "outputs": [],
   "source": [
    "sum.sound_box(18)"
   ]
  },
  {
   "cell_type": "code",
   "execution_count": 15,
   "id": "734be405-b06a-4767-923c-b350d720086d",
   "metadata": {},
   "outputs": [],
   "source": [
    "from sumeet import *"
   ]
  },
  {
   "cell_type": "code",
   "execution_count": 16,
   "id": "2210216c-515e-4be0-98fa-41c302e6b558",
   "metadata": {},
   "outputs": [
    {
     "name": "stdout",
     "output_type": "stream",
     "text": [
      "done\n"
     ]
    }
   ],
   "source": [
    "print('done')"
   ]
  },
  {
   "cell_type": "code",
   "execution_count": 17,
   "id": "1c130178-d23f-4c50-9c6b-3e51bc9949d9",
   "metadata": {},
   "outputs": [],
   "source": [
    "sound_box(10)"
   ]
  },
  {
   "cell_type": "code",
   "execution_count": 18,
   "id": "31b5d6f5-64b9-48f6-893c-7c97782489f9",
   "metadata": {},
   "outputs": [
    {
     "data": {
      "text/plain": [
       "[0, 1, 1, 2, 3, 5, 8, 13, 21, 34, 55, 89]"
      ]
     },
     "execution_count": 18,
     "metadata": {},
     "output_type": "execute_result"
    }
   ],
   "source": [
    "give_fibo(12)"
   ]
  },
  {
   "cell_type": "code",
   "execution_count": 23,
   "id": "60bdd974-677e-433a-8513-0f36407a1533",
   "metadata": {},
   "outputs": [
    {
     "name": "stdout",
     "output_type": "stream",
     "text": [
      "done\n"
     ]
    }
   ],
   "source": [
    "import turtle\n",
    "print('done')"
   ]
  },
  {
   "cell_type": "raw",
   "id": "51265bc2-4b62-472b-a821-91ee791026e7",
   "metadata": {},
   "source": []
  },
  {
   "cell_type": "code",
   "execution_count": 2,
   "id": "b97cc35e-c3ad-4d4d-9c50-2756384de35c",
   "metadata": {},
   "outputs": [],
   "source": [
    "import turtle\n",
    "for i in range(120):\n",
    "    turtle.speed(0)\n",
    "    turtle.bgcolor('cyan')\n",
    "    col = ('blue', 'pink', 'white', 'brown','yellow')\n",
    "    import random\n",
    "    picked_color = random.choice(col)\n",
    "    turtle.color(picked_color)\n",
    "    turtle.circle(100)\n",
    "    turtle.left(180)"
   ]
  },
  {
   "cell_type": "code",
   "execution_count": 1,
   "id": "b551479c-381d-4b3b-bcce-52115f2f889b",
   "metadata": {},
   "outputs": [],
   "source": [
    "import turtle\n",
    "for i in range(3):\n",
    "    turtle.bgcolor('black')\n",
    "    turtle.color('cyan')\n",
    "    turtle.forward(100)\n",
    "    turtle.left(60)\n",
    "    "
   ]
  },
  {
   "cell_type": "code",
   "execution_count": 1,
   "id": "655d0cf5-7df8-48fe-a891-b8b088072707",
   "metadata": {},
   "outputs": [],
   "source": [
    "#context manager\n"
   ]
  },
  {
   "cell_type": "code",
   "execution_count": 5,
   "id": "3c7d7e5d-5e13-41f4-8e87-d93feda0af6e",
   "metadata": {},
   "outputs": [
    {
     "name": "stdout",
     "output_type": "stream",
     "text": [
      "print('''This is sumeet module\n",
      "Info: https://www.google.com/''')\n",
      "\n",
      "\n",
      "def check_palindrome(word:str):\n",
      " \n"
     ]
    }
   ],
   "source": [
    "file = open('sumeet.py',mode= 'r')\n",
    "print(file.read(100))\n",
    "file.close()"
   ]
  },
  {
   "cell_type": "code",
   "execution_count": 8,
   "id": "f00098c9-3c82-4e4c-b07b-12560c27ceb0",
   "metadata": {},
   "outputs": [],
   "source": [
    "f = open('sumeet.py',mode= 'r')"
   ]
  },
  {
   "cell_type": "code",
   "execution_count": 18,
   "id": "c75d7c60-63b6-459b-adb2-f84c60c7fd46",
   "metadata": {},
   "outputs": [
    {
     "name": "stdout",
     "output_type": "stream",
     "text": [
      "    else:\n",
      "\n"
     ]
    }
   ],
   "source": [
    "print(f.readline())"
   ]
  },
  {
   "cell_type": "code",
   "execution_count": 20,
   "id": "386c4e98-1b54-4102-828a-acd39ef4e3e5",
   "metadata": {},
   "outputs": [],
   "source": [
    "f.close()"
   ]
  },
  {
   "cell_type": "code",
   "execution_count": 25,
   "id": "59cb2bd3-3970-4916-b3c4-2182bdfaeff8",
   "metadata": {},
   "outputs": [
    {
     "name": "stdout",
     "output_type": "stream",
     "text": [
      "print('''This is sumeet module\n",
      "\n",
      "Info: https://www.google.com/''')\n",
      "\n",
      "\n",
      "\n",
      "\n",
      "\n",
      "def check_palindrome(word:str):\n",
      "\n",
      "  if type(word) == str:\n",
      "\n",
      "    word = word.upper()\n",
      "\n",
      "    if word == word[::-1]:\n",
      "\n",
      "      return 'Palindrome'\n",
      "\n",
      "    else:\n",
      "\n"
     ]
    }
   ],
   "source": [
    "f = open('sumeet.py',mode= 'r')\n",
    "for i in range(10):\n",
    "    print(f.readline())"
   ]
  },
  {
   "cell_type": "code",
   "execution_count": 26,
   "id": "11ceff39-239c-4821-9e1a-f4bf4e191097",
   "metadata": {},
   "outputs": [
    {
     "name": "stdout",
     "output_type": "stream",
     "text": [
      "def check_palindrome(word:str):\n",
      "\n"
     ]
    }
   ],
   "source": [
    "f = open('sumeet.py',mode= 'r')\n",
    "for i in range(10):\n",
    "    if i == 4:\n",
    "        print(f.readline())\n",
    "    else:\n",
    "        f.readline()"
   ]
  },
  {
   "cell_type": "code",
   "execution_count": 27,
   "id": "ac521bc6-2b53-4783-a964-f50163549260",
   "metadata": {},
   "outputs": [
    {
     "name": "stdout",
     "output_type": "stream",
     "text": [
      "done\n"
     ]
    }
   ],
   "source": [
    "f = open('sumeet.py',mode= 'r')\n",
    "data = f.readlines()\n",
    "\n",
    "f.close()\n",
    "print('done')"
   ]
  },
  {
   "cell_type": "code",
   "execution_count": 28,
   "id": "01c19ebc-3674-4fa1-8387-5be2e732516e",
   "metadata": {},
   "outputs": [
    {
     "name": "stdout",
     "output_type": "stream",
     "text": [
      "['  if type(word) == str:\\n', '    word = word.upper()\\n', '    if word == word[::-1]:\\n', \"      return 'Palindrome'\\n\", '    else:\\n', \"      return 'Not a Plaindrome'\\n\", '  else:\\n', \"    return 'Invalid Data Type'\\n\", '\\n', '\\n', 'def give_fibo(n):\\n', '    fibo = [0,1]\\n', '    for i in range(n-2):\\n', '        last_num = fibo[-1]\\n', '        second_last_num = fibo[-2]\\n', '        next_num = last_num + second_last_num\\n', '        fibo.append(next_num)\\n', '    return fibo\\n', '\\n', '\\n', 'def check_prime(n):\\n', '    for i in range(2,n):\\n', '        if n % i == 0:\\n', \"            return 'Not a prime number.'\\n\", '            break\\n', '    else:\\n', \"        return 'prime number'\\n\", '\\n', '\\n', \"def print_star(n=10, typ='left', shape = '*'):\\n\", \"    if typ == 'left':\\n\", \"        space = ''\\n\", \"    elif typ == 'right':\\n\", \"        space = '  ' \\n\", \"    elif typ == 'mid':\\n\"]\n"
     ]
    }
   ],
   "source": [
    "print(data[5:40])"
   ]
  },
  {
   "cell_type": "code",
   "execution_count": 30,
   "id": "c7b67aab-701f-4902-8ac0-9083a8e9cee3",
   "metadata": {},
   "outputs": [
    {
     "name": "stdout",
     "output_type": "stream",
     "text": [
      "print('''This is sumeet module\n",
      "\n",
      "Info: https://www.google.com/''')\n",
      "\n",
      "\n",
      "\n",
      "\n",
      "\n",
      "def check_palindrome(word:str):\n",
      "\n",
      "  if type(word) == str:\n",
      "\n",
      "    word = word.upper()\n",
      "\n",
      "    if word == word[::-1]:\n",
      "\n",
      "      return 'Palindrome'\n",
      "\n",
      "    else:\n",
      "\n",
      "      return 'Not a Plaindrome'\n",
      "\n",
      "  else:\n",
      "\n",
      "    return 'Invalid Data Type'\n",
      "\n",
      "\n",
      "\n",
      "\n",
      "\n",
      "def give_fibo(n):\n",
      "\n"
     ]
    }
   ],
   "source": [
    "for i in data[:16]:\n",
    "    print(i)"
   ]
  },
  {
   "cell_type": "code",
   "execution_count": null,
   "id": "f9e407dd-256b-4829-a8b7-13772d737125",
   "metadata": {},
   "outputs": [],
   "source": []
  }
 ],
 "metadata": {
  "kernelspec": {
   "display_name": "Python 3 (ipykernel)",
   "language": "python",
   "name": "python3"
  },
  "language_info": {
   "codemirror_mode": {
    "name": "ipython",
    "version": 3
   },
   "file_extension": ".py",
   "mimetype": "text/x-python",
   "name": "python",
   "nbconvert_exporter": "python",
   "pygments_lexer": "ipython3",
   "version": "3.13.5"
  }
 },
 "nbformat": 4,
 "nbformat_minor": 5
}
