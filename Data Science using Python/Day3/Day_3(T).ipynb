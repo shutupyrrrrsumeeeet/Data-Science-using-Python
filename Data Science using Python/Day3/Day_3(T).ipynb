{
  "nbformat": 4,
  "nbformat_minor": 0,
  "metadata": {
    "colab": {
      "private_outputs": true,
      "provenance": []
    },
    "kernelspec": {
      "name": "python3",
      "display_name": "Python 3"
    },
    "language_info": {
      "name": "python"
    }
  },
  "cells": [
    {
      "cell_type": "code",
      "execution_count": null,
      "metadata": {
        "id": "q-jB5fqGoHCV"
      },
      "outputs": [],
      "source": [
        "import qrcode\n",
        "img = qrcode.make('https://colab.research.google.com/drive/1UV8ZUt9mjWLi1Atb44j27w4RhgrG8pUL?usp=sharing')\n",
        "img.save('myqr.png')"
      ]
    },
    {
      "cell_type": "code",
      "source": [
        "# pip install qrcode"
      ],
      "metadata": {
        "id": "_ont39TXoLVa"
      },
      "execution_count": null,
      "outputs": []
    },
    {
      "cell_type": "code",
      "source": [
        "# Last Func\n",
        "# Exception handling\n",
        "# Modules\n",
        "# User defined Module\n",
        "# File Handling and it's uses\n",
        "# Practical Examples"
      ],
      "metadata": {
        "id": "QZFs-fRNoU4b"
      },
      "execution_count": null,
      "outputs": []
    },
    {
      "cell_type": "code",
      "source": [
        "# Exception handling\n",
        "# try\n",
        "# except"
      ],
      "metadata": {
        "id": "fPiKPlXhqG5n"
      },
      "execution_count": null,
      "outputs": []
    },
    {
      "cell_type": "code",
      "source": [
        "# Exception handling\n",
        "\n",
        "\n",
        "age = '23'\n",
        "\n",
        "try:\n",
        "  # print(1/0)\n",
        "  print(vari)\n",
        "  if age >= 18:\n",
        "    print('can vote')\n",
        "  else:\n",
        "    print('can\\'t vote')\n",
        "except TypeError:\n",
        "  print('Something went wrong!!')\n",
        "  print('Invalid datatype comparison!!')\n",
        "\n",
        "except:\n",
        "  print('Invalid Code!!')"
      ],
      "metadata": {
        "id": "JgZ2_4NuqgH7"
      },
      "execution_count": null,
      "outputs": []
    },
    {
      "cell_type": "code",
      "source": [
        "def student_records(**kwargs):\n",
        "  import pandas as pd\n",
        "  try:\n",
        "    data = pd.DataFrame(kwargs)\n",
        "    return data\n",
        "  except:\n",
        "    data = pd.DataFrame(kwargs,index = [1])\n",
        "    return data"
      ],
      "metadata": {
        "id": "75NW0RoFqy6i"
      },
      "execution_count": null,
      "outputs": []
    },
    {
      "cell_type": "code",
      "source": [
        "student_records(Name = 'Ajay',Age = 12,Address = 'Noida')"
      ],
      "metadata": {
        "id": "O0rmZWK0unYI"
      },
      "execution_count": null,
      "outputs": []
    },
    {
      "cell_type": "code",
      "source": [
        "student_records(Name = ['Aman','Karan','Mohan'],\n",
        "                Age = [23,34,45],\n",
        "                Address = ['Noida','Delhi','Noida'],\n",
        "                Sec = list('ABC'))"
      ],
      "metadata": {
        "id": "1Zu19NdXvDs-"
      },
      "execution_count": null,
      "outputs": []
    },
    {
      "cell_type": "code",
      "source": [
        "def show_time():\n",
        "  try:\n",
        "    while True:\n",
        "      import time\n",
        "      print(time.asctime())\n",
        "      time.sleep(1)\n",
        "      display(clear = True)\n",
        "  except:\n",
        "    print('Timer has been Stopped!!')"
      ],
      "metadata": {
        "id": "4ChvS2ZGwXhz"
      },
      "execution_count": null,
      "outputs": []
    },
    {
      "cell_type": "code",
      "source": [
        "show_time()"
      ],
      "metadata": {
        "id": "c9ErQciHz14r"
      },
      "execution_count": null,
      "outputs": []
    },
    {
      "cell_type": "code",
      "source": [
        "def check_palindrome(word:str):\n",
        "  if type(word) == str:\n",
        "    word = word.upper()\n",
        "    if word == word[::-1]:\n",
        "      return 'Palindrome'\n",
        "    else:\n",
        "      return 'Not a Plaindrome'\n",
        "  else:\n",
        "    return 'Invalid Data Type'"
      ],
      "metadata": {
        "id": "LBIfM9Ej0Y8f"
      },
      "execution_count": null,
      "outputs": []
    },
    {
      "cell_type": "code",
      "source": [
        "def give_fibo(n):\n",
        "  fibo = [0,1]\n",
        "  for i in range(n-2):\n",
        "     last_num = fibo[-1]\n",
        "     second_last_num = fibo[-2]\n",
        "     next_num = last_num + second_last_num\n",
        "     fibo.append(next_num)\n",
        "  return fibo"
      ],
      "metadata": {
        "id": "1MVE5qNZ59Lo"
      },
      "execution_count": null,
      "outputs": []
    },
    {
      "cell_type": "code",
      "source": [
        "def check_prime(number):\n",
        "    for i in range(2,number):\n",
        "        if number % i == 0:\n",
        "            return 'Not a Prime Number'\n",
        "            break\n",
        "            print('Happy Holi')\n",
        "    else:\n",
        "        return 'Prime Number'"
      ],
      "metadata": {
        "id": "0djic3U46RFl"
      },
      "execution_count": null,
      "outputs": []
    },
    {
      "cell_type": "code",
      "source": [
        "def print_star(n = 5, typ = 'left',shape = '*'):\n",
        "  if typ  == 'left':\n",
        "    space  = ''\n",
        "\n",
        "  elif typ == 'right':\n",
        "    space = '  '\n",
        "\n",
        "  elif typ == 'mid':\n",
        "    space = ' '\n",
        "\n",
        "  for i in range(1,n+1):\n",
        "    print(space*(n-i) + i*f'{shape} ')"
      ],
      "metadata": {
        "id": "5yIKmd4T6R0K"
      },
      "execution_count": null,
      "outputs": []
    },
    {
      "cell_type": "code",
      "source": [
        "\n",
        "def sum_of_n_natural_numbers(n):\n",
        "    result = 0\n",
        "    for i in range(1,n+1):\n",
        "        result += i\n",
        "    return result\n",
        "\n",
        "def factorial(n):\n",
        "    result = 1\n",
        "    for i in range(1,n+1):\n",
        "        result *= i\n",
        "    return result\n",
        "\n"
      ],
      "metadata": {
        "id": "v1c_VAGT6iRn"
      },
      "execution_count": null,
      "outputs": []
    },
    {
      "cell_type": "code",
      "source": [
        "def total_sales(*args):\n",
        "  #unpacking\n",
        "  result = 0\n",
        "  for i in args:\n",
        "    result += i\n",
        "  return result"
      ],
      "metadata": {
        "id": "tGOE5dsP6yqI"
      },
      "execution_count": null,
      "outputs": []
    },
    {
      "cell_type": "code",
      "source": [
        "def minn(*data):\n",
        "  min_ele = data[0]\n",
        "  for i in data[1:]:\n",
        "    if i< min_ele:\n",
        "      min_ele = i\n",
        "  return min_ele"
      ],
      "metadata": {
        "id": "vFUNjo9f6zGM"
      },
      "execution_count": null,
      "outputs": []
    },
    {
      "cell_type": "code",
      "source": [
        "def sound_box(paisa,platform = 'Paytm'):\n",
        "    from gtts import gTTS\n",
        "    text  = f'''{platform} par {paisa} rs Prapt hue.'''\n",
        "    audio = gTTS(text)\n",
        "    audio.save('paytm.mp3')\n",
        "\n",
        "    import pygame as p\n",
        "    p.init()\n",
        "\n",
        "    music = p.mixer.Sound('paytm.mp3')\n",
        "    music.play()"
      ],
      "metadata": {
        "id": "lkF-CUei639W"
      },
      "execution_count": null,
      "outputs": []
    },
    {
      "cell_type": "code",
      "source": [
        "print('''This is Ankit Module in Python\n",
        "Info: https://www.google.com/''')\n",
        "\n",
        "\n",
        "\n",
        "def check_palindrome(word:str):\n",
        "  if type(word) == str:\n",
        "    word = word.upper()\n",
        "    if word == word[::-1]:\n",
        "      return 'Palindrome'\n",
        "    else:\n",
        "      return 'Not a Plaindrome'\n",
        "  else:\n",
        "    return 'Invalid Data Type'\n",
        "\n",
        "\n",
        "\n",
        "def give_fibo(n):\n",
        "  fibo = [0,1]\n",
        "  for i in range(n-2):\n",
        "     last_num = fibo[-1]\n",
        "     second_last_num = fibo[-2]\n",
        "     next_num = last_num + second_last_num\n",
        "     fibo.append(next_num)\n",
        "  return fibo\n",
        "\n",
        "\n",
        "def check_prime(number):\n",
        "    for i in range(2,number):\n",
        "        if number % i == 0:\n",
        "            return 'Not a Prime Number'\n",
        "            break\n",
        "            print('Happy Holi')\n",
        "    else:\n",
        "        return 'Prime Number'\n",
        "\n",
        "\n",
        "def print_star(n = 5, typ = 'left',shape = '*'):\n",
        "  if typ  == 'left':\n",
        "    space  = ''\n",
        "\n",
        "  elif typ == 'right':\n",
        "    space = '  '\n",
        "\n",
        "  elif typ == 'mid':\n",
        "    space = ' '\n",
        "\n",
        "  for i in range(1,n+1):\n",
        "    print(space*(n-i) + i*f'{shape} ')\n",
        "\n",
        "\n",
        "\n",
        "def sum_of_n_natural_numbers(n):\n",
        "    result = 0\n",
        "    for i in range(1,n+1):\n",
        "        result += i\n",
        "    return result\n",
        "\n",
        "def factorial(n):\n",
        "    result = 1\n",
        "    for i in range(1,n+1):\n",
        "        result *= i\n",
        "    return result\n",
        "\n",
        "\n",
        "def total_sales(*args):\n",
        "  #unpacking\n",
        "  result = 0\n",
        "  for i in args:\n",
        "    result += i\n",
        "  return result\n",
        "\n",
        "def minn(*data):\n",
        "  min_ele = data[0]\n",
        "  for i in data[1:]:\n",
        "    if i< min_ele:\n",
        "      min_ele = i\n",
        "  return min_ele\n",
        "\n",
        "def student_records(**kwargs):\n",
        "  import pandas as pd\n",
        "  try:\n",
        "    data = pd.DataFrame(kwargs)\n",
        "    return data\n",
        "  except:\n",
        "    data = pd.DataFrame(kwargs,index = [1])\n",
        "    return data\n",
        "\n",
        "def show_time():\n",
        "  try:\n",
        "    while True:\n",
        "      import time\n",
        "      print(time.asctime())\n",
        "      time.sleep(1)\n",
        "      display(clear = True)\n",
        "  except:\n",
        "    print('Timer has been Stopped!!')\n",
        "\n",
        "def sound_box(paisa,platform = 'Paytm'):\n",
        "    from gtts import gTTS\n",
        "    text  = f'''{platform} par {paisa} rs Prapt hue.'''\n",
        "    audio = gTTS(text)\n",
        "    audio.save('paytm.mp3')\n",
        "\n",
        "    import pygame as p\n",
        "    p.init()\n",
        "\n",
        "    music = p.mixer.Sound('paytm.mp3')\n",
        "    music.play()\n"
      ],
      "metadata": {
        "id": "XD6BF4Bu79vZ"
      },
      "execution_count": null,
      "outputs": []
    },
    {
      "cell_type": "code",
      "source": [],
      "metadata": {
        "id": "x_ok7DYG_Evf"
      },
      "execution_count": null,
      "outputs": []
    },
    {
      "cell_type": "code",
      "source": [],
      "metadata": {
        "id": "ZEBD46SA_Ex8"
      },
      "execution_count": null,
      "outputs": []
    },
    {
      "cell_type": "code",
      "source": [],
      "metadata": {
        "id": "YwGMNZoN_E0f"
      },
      "execution_count": null,
      "outputs": []
    },
    {
      "cell_type": "code",
      "source": [],
      "metadata": {
        "id": "04zlDpW8_E3A"
      },
      "execution_count": null,
      "outputs": []
    },
    {
      "cell_type": "code",
      "source": [],
      "metadata": {
        "id": "5PFGnBjO_E5N"
      },
      "execution_count": null,
      "outputs": []
    },
    {
      "cell_type": "code",
      "source": [],
      "metadata": {
        "id": "Ff1NYITH_E7q"
      },
      "execution_count": null,
      "outputs": []
    },
    {
      "cell_type": "code",
      "source": [],
      "metadata": {
        "id": "fKlGLEst_E99"
      },
      "execution_count": null,
      "outputs": []
    },
    {
      "cell_type": "code",
      "source": [],
      "metadata": {
        "id": "EWYrAukB_FCG"
      },
      "execution_count": null,
      "outputs": []
    },
    {
      "cell_type": "code",
      "source": [
        "import ankit as a\n",
        "a.give_fibo(12)"
      ],
      "metadata": {
        "id": "7EdnmCB__FFd"
      },
      "execution_count": null,
      "outputs": []
    },
    {
      "cell_type": "code",
      "source": [
        "from ankit import minn\n",
        "print('Done')"
      ],
      "metadata": {
        "id": "7M-U7RAUICxh"
      },
      "execution_count": null,
      "outputs": []
    },
    {
      "cell_type": "code",
      "source": [
        "from ankit import *\n",
        "print('Done')"
      ],
      "metadata": {
        "id": "l_tyWPdBV1X9"
      },
      "execution_count": null,
      "outputs": []
    },
    {
      "cell_type": "code",
      "source": [
        "import turtle\n",
        "print('done')"
      ],
      "metadata": {
        "id": "74YiAwiRWTM1"
      },
      "execution_count": null,
      "outputs": []
    },
    {
      "cell_type": "code",
      "source": [
        "import turtle\n",
        "for i in range(120):\n",
        "    turtle.speed(0)\n",
        "    turtle.bgcolor('black')\n",
        "    col = ['red','yellow','green','blue','orange']\n",
        "    import random\n",
        "    picked_color = random.choice(col)\n",
        "    turtle.color(picked_color)\n",
        "    turtle.circle(100)\n",
        "    turtle.left(3)"
      ],
      "metadata": {
        "id": "DASTKChHZ4lx"
      },
      "execution_count": null,
      "outputs": []
    },
    {
      "cell_type": "code",
      "source": [
        "import turtle\n",
        "for i in range(4):\n",
        "    turtle.circle(100)\n",
        "    turtle.left(90)"
      ],
      "metadata": {
        "id": "3XU_F6XjXdEZ"
      },
      "execution_count": null,
      "outputs": []
    },
    {
      "cell_type": "code",
      "source": [
        "import turtle\n",
        "for i in range(6):\n",
        "    turtle.bgcolor('black')\n",
        "    turtle.color('cyan')\n",
        "    turtle.forward(150)\n",
        "    turtle.left(60)"
      ],
      "metadata": {
        "id": "wBnUA8phYftg"
      },
      "execution_count": null,
      "outputs": []
    },
    {
      "cell_type": "code",
      "source": [
        "# 1:- Text File\n",
        "#\n",
        "# .py,.html, .csv, .tsv, .css, .java, .c, c++,. json, .js,\n",
        "# 2: Binary File\n",
        "# Software\n",
        "# .pdf, .mp3, mp4, .png, .jpeg, .exe, .zip, .dat, .tar .xlsx, .ppt, .doc, .ipynb"
      ],
      "metadata": {
        "id": "c7V6WxAGhs1K"
      },
      "execution_count": null,
      "outputs": []
    },
    {
      "cell_type": "code",
      "source": [
        "# handling:- read, write, copy, append, delete, open, new"
      ],
      "metadata": {
        "id": "n4pe0gmQhtaL"
      },
      "execution_count": null,
      "outputs": []
    },
    {
      "cell_type": "code",
      "source": [
        "file = open('ankit.py',mode = 'r')"
      ],
      "metadata": {
        "id": "cXwVpnVchuz7"
      },
      "execution_count": null,
      "outputs": []
    },
    {
      "cell_type": "code",
      "source": [
        "file = open('ankit.py',mode = 'r')\n",
        "print(file.read(100))\n",
        "file.close()"
      ],
      "metadata": {
        "id": "chPKkLxtiiyl"
      },
      "execution_count": null,
      "outputs": []
    },
    {
      "cell_type": "code",
      "source": [
        "f = open('ankit.py',mode = 'r')"
      ],
      "metadata": {
        "id": "NB47TkyWi95z"
      },
      "execution_count": null,
      "outputs": []
    },
    {
      "cell_type": "code",
      "source": [
        "print(f.readline())"
      ],
      "metadata": {
        "id": "xMDt8Pg_lv9G"
      },
      "execution_count": null,
      "outputs": []
    },
    {
      "cell_type": "code",
      "source": [
        "f = open('ankit.py',mode = 'r')\n",
        "for i in range(10):\n",
        "    print(f.readline())"
      ],
      "metadata": {
        "id": "W-t_FC3Ylw_v"
      },
      "execution_count": null,
      "outputs": []
    },
    {
      "cell_type": "code",
      "source": [
        "f = open('ankit.py',mode = 'r')\n",
        "for i in range(10):\n",
        "    print(f.readline())"
      ],
      "metadata": {
        "id": "wc-RLMo2nriY"
      },
      "execution_count": null,
      "outputs": []
    },
    {
      "cell_type": "code",
      "source": [
        "f = open('ankit.py',mode = 'r')\n",
        "for i in range(10):\n",
        "    if i == 7: #line no 8\n",
        "        print(f.readline())\n",
        "    else:\n",
        "        f.readline()"
      ],
      "metadata": {
        "id": "TgzGttH5o3dP"
      },
      "execution_count": null,
      "outputs": []
    },
    {
      "cell_type": "code",
      "source": [
        "f = open('ankit.py',mode = 'r')\n",
        "\n",
        "data = f.readlines()\n",
        "\n",
        "f.close()\n",
        "print('done')"
      ],
      "metadata": {
        "id": "b_oKUK2PpVbN"
      },
      "execution_count": null,
      "outputs": []
    },
    {
      "cell_type": "code",
      "source": [],
      "metadata": {
        "id": "Ao7WjtdOo5uW"
      },
      "execution_count": null,
      "outputs": []
    }
  ]
}